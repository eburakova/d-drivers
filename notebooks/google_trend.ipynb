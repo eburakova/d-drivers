{
 "cells": [
  {
   "cell_type": "code",
   "execution_count": null,
   "metadata": {},
   "outputs": [],
   "source": [
    "import time\n",
    "from pytrends.request import TrendReq\n",
    "from ratelimit import limits, sleep_and_retry"
   ]
  },
  {
   "cell_type": "code",
   "execution_count": null,
   "metadata": {},
   "outputs": [],
   "source": [
    "# Define rate limit settings\n",
    "REQUESTS_PER_MINUTE = 60  # Maximum allowed requests per minute\n",
    "\n",
    "# Rate limit decorator\n",
    "@sleep_and_retry\n",
    "@limits(calls=REQUESTS_PER_MINUTE, period=60)\n",
    "def fetch_google_trends_data():\n",
    "    pytrends = TrendReq(hl='de-DE', tz=300)\n",
    "    try_count = 0\n",
    "    max_retries = 5\n",
    "    \n",
    "    while try_count < max_retries:\n",
    "        try:\n",
    "            # Make the request to fetch Google Trends data\n",
    "            pytrends.build_payload(kw_list=[#'E-Auto' \n",
    "                                            #'Auto', 'Zubehör'#, \n",
    "                                            #'Motorrad', 'Energie', 'Verkehr'\n",
    "                                            #'Wallbox/Laden', 'Solaranlagen', 'E-Bike'#, \n",
    "                                            #'Fahrrad', 'E-Scooter'\n",
    "                                            #'Solarspeicher', 'THG', 'Solargenerator', 'Wärmepumpe',\n",
    "                                            'Versicherung', 'Balkonkraftwerk'\n",
    "                                            ], timeframe='2023-01-01 2024-03-23', geo='DE')\n",
    "            #data = pytrends.interest_over_time()\n",
    "            \n",
    "            # Get related search queries\n",
    "            related_queries = pytrends.related_queries()\n",
    "            \n",
    "            return related_queries\n",
    "        except Exception as e:\n",
    "            print(f\"Failed to fetch Google Trends data: {e}\")\n",
    "            print(f\"Retrying in 5 second...\")\n",
    "            time.sleep(5)  # Wait for 5 seconds before retrying\n",
    "            try_count += 1\n",
    "    \n",
    "    # If all retries fail, return None\n",
    "    return None\n",
    "\n",
    "# Example usage\n",
    "trends_data = fetch_google_trends_data()\n",
    "if trends_data is not None:\n",
    "    print(\"Successfully fetched Google Trends data!\")\n",
    "else:\n",
    "    print(\"Failed to fetch Google Trends data after multiple retries.\")\n"
   ]
  },
  {
   "cell_type": "markdown",
   "metadata": {},
   "source": [
    "Comment out all keywords except for which you want to filter and assign them to a dataframe afterwards. Super ugly but works for now :)"
   ]
  },
  {
   "cell_type": "code",
   "execution_count": null,
   "metadata": {},
   "outputs": [],
   "source": [
    "Versicherung_Balkonkraftwerk = trends_data"
   ]
  },
  {
   "cell_type": "code",
   "execution_count": null,
   "metadata": {},
   "outputs": [],
   "source": [
    "Fahrrad_E_Scooter\t= trends_data"
   ]
  },
  {
   "cell_type": "code",
   "execution_count": null,
   "metadata": {},
   "outputs": [],
   "source": [
    "Solarspeicher_THG_Solargenerator_Wärmepumpe= trends_data"
   ]
  },
  {
   "cell_type": "code",
   "execution_count": null,
   "metadata": {},
   "outputs": [],
   "source": [
    "Wallbox_Laden_Solaranlagen_E_Bike = trends_data"
   ]
  },
  {
   "cell_type": "code",
   "execution_count": null,
   "metadata": {},
   "outputs": [],
   "source": [
    "Motorrad_Energie_Verkehr\t= trends_data"
   ]
  },
  {
   "cell_type": "code",
   "execution_count": null,
   "metadata": {},
   "outputs": [],
   "source": [
    "auto_und_zubehör = trends_data"
   ]
  },
  {
   "cell_type": "code",
   "execution_count": null,
   "metadata": {},
   "outputs": [],
   "source": [
    "google_e_auto = trends_data"
   ]
  },
  {
   "cell_type": "code",
   "execution_count": null,
   "metadata": {},
   "outputs": [],
   "source": [
    "import pandas as pd\n",
    "# Flatten the nested dictionary\n",
    "flat_data = [(category, query_dict['query'], query_dict['value']) for category, subdict in google_e_auto.items() for query_dict in subdict.get('top', [])]\n",
    "\n",
    "# Convert the flattened data into a DataFrame\n",
    "df = pd.DataFrame(flat_data, columns=['Category', 'Query', 'Value'])\n",
    "\n",
    "print(df)"
   ]
  },
  {
   "cell_type": "code",
   "execution_count": null,
   "metadata": {},
   "outputs": [],
   "source": [
    "def convert_df(df):\n",
    "    # Convert the data to a DataFrame\n",
    "    dfs = []\n",
    "    for keyword, df_dict in trends_data.items():\n",
    "        df = df_dict['top']\n",
    "        df['keyword'] = keyword\n",
    "        dfs.append(df)\n",
    "\n",
    "    # Concatenate the DataFrames\n",
    "    df = pd.concat(dfs, ignore_index=True)"
   ]
  },
  {
   "cell_type": "code",
   "execution_count": null,
   "metadata": {},
   "outputs": [],
   "source": [
    "df_list = [Fahrrad_E_Scooter, Solarspeicher_THG_Solargenerator_Wärmepumpe, auto_und_zubehör, google_e_auto, Motorrad_Energie_Verkehr, Wallbox_Laden_Solaranlagen_E_Bike, Versicherung_Balkonkraftwerk]\n",
    "\n",
    "for item in df_list:\n",
    "    convert_df(df=item)"
   ]
  },
  {
   "cell_type": "code",
   "execution_count": null,
   "metadata": {},
   "outputs": [],
   "source": [
    "import pandas as pd\n",
    "\n",
    "def convert_df(df):\n",
    "    # Convert the data to a DataFrame\n",
    "    dfs = {}\n",
    "    for keyword, df_dict in trends_data.items():\n",
    "        temp_df = df_dict['top'].copy()  # Making a copy of the original dataframe\n",
    "        temp_df['keyword'] = keyword\n",
    "        dfs[keyword] = temp_df\n",
    "\n",
    "    return dfs\n",
    "\n",
    "# Example usage:\n",
    "df_list = {\n",
    "    'Fahrrad_E_Scooter': Fahrrad_E_Scooter,\n",
    "    'Solarspeicher_THG_Solargenerator_Wärmepumpe': Solarspeicher_THG_Solargenerator_Wärmepumpe,\n",
    "    'auto_und_zubehör': auto_und_zubehör,\n",
    "    'google_e_auto': google_e_auto,\n",
    "    'Motorrad_Energie_Verkehr': Motorrad_Energie_Verkehr,\n",
    "    'Wallbox_Laden_Solaranlagen_E_Bike': Wallbox_Laden_Solaranlagen_E_Bike,\n",
    "    'Versicherung_Balkonkraftwerk': Versicherung_Balkonkraftwerk\n",
    "}\n",
    "\n",
    "converted_dfs = {}\n",
    "for name, df in df_list.items():\n",
    "    converted_dfs[name] = convert_df(df=df)"
   ]
  },
  {
   "cell_type": "code",
   "execution_count": null,
   "metadata": {},
   "outputs": [],
   "source": [
    "import pandas as pd\n",
    "\n",
    "# Provided data\n",
    "# data = {'Versicherung': {'top': \n",
    "#                             pd.DataFrame({'query': ['versicherung kfz', 'versicherung auto', 'allianz', 'allianz versicherung', 'ergo versicherung', 'huk', 'huk versicherung', 'ergo', 'adac versicherung', 'adac', 'vhv versicherung', 'check24 versicherung', 'axa versicherung', 'versicherung kündigen', 'lvm versicherung', 'württembergische versicherung', 'devk versicherung', 'devk', 'württembergische', 'kfz versicherung vergleich', 'wgv versicherung', 'hdi versicherung', 'wgv', 'nürnberger versicherung'],\n",
    "#                                          'value': [100, 36, 24, 24, 24, 23, 23, 22, 16, 16, 15, 14, 14, 14, 14, 14, 10, 10, 10, 9, 9, 9, 9, 9, 9, 9]}),\n",
    "#                         'Balkonkraftwerk': {'top': \n",
    "#                                                 pd.DataFrame({'query': ['balkonkraftwerk', 'balkonkraftwerk kaufen', 'balkonkraftwerk kaufen preis', 'balkonkraftwerk kaufen kosten', 'balkonkraftwerk für mieter', 'balkonkraftwerk mietwohnung', 'balkonkraftwerk solar', 'balkonkraftwerk für mieter mietwohnung', 'balkonkraftwerk mietwohnung miete', 'balkonkraftwerk stecker', 'balkonkraftwerk ertrag', 'balkonkraftwerk kaufen anbieter', 'balkonkraftwerk stecker steckdose', 'balkonkraftwerk für mietwohnung', 'balkonkraftwerk erfahrungen', 'balkonkraftwerk für mietwohnung miete', 'balkonkraftwerk test', 'balkonkraftwerk ertrag erfahrungen', 'balkonkraftwerk testsieger', 'balkonkraftwerk ertrag pro jahr', 'balkonkraftwerk selber bauen', 'balkonkraftwerk eigenbau', 'balkonkraftwerk steckdose', 'balkonkraftwerk stecker solar', 'balkonkraftwerk kaufen test'],\n",
    "#                                                               'value': [100, 60, 60, 60, 50, 50, 50, 50, 40, 40, 40, 40, 30, 30, 30, 30, 30, 30, 30, 30, 20, 20, 20, 20, 20]})}}\n",
    "\n",
    "# Convert the data to a DataFrame\n",
    "dfs = []\n",
    "for keyword, df_dict in Solarspeicher_THG_Solargenerator_Wärmepumpe.items():\n",
    "    df = df_dict['top']\n",
    "    df['keyword'] = keyword\n",
    "    dfs.append(df)\n",
    "\n",
    "# Concatenate the DataFrames\n",
    "Fahrrad_E_Scooter = pd.concat(dfs, ignore_index=True)\n",
    "\n",
    "# Display the result\n",
    "#print(result_df)"
   ]
  },
  {
   "cell_type": "code",
   "execution_count": null,
   "metadata": {},
   "outputs": [],
   "source": [
    "Solarspeicher_THG_Solargenerator_Wärmepumpe"
   ]
  },
  {
   "cell_type": "code",
   "execution_count": null,
   "metadata": {},
   "outputs": [],
   "source": [
    "df_list"
   ]
  },
  {
   "cell_type": "code",
   "execution_count": null,
   "metadata": {},
   "outputs": [],
   "source": [
    "import pandas as pd\n",
    "test = pd.DataFrame(trends_data)"
   ]
  },
  {
   "cell_type": "code",
   "execution_count": null,
   "metadata": {},
   "outputs": [],
   "source": [
    "import pandas as pd\n",
    "\n",
    "# Define a function to merge DataFrames and drop the 'isPartial' column if it exists\n",
    "def merge_and_drop(df1, df2):\n",
    "    # Merge DataFrames on the 'date' column\n",
    "    merged_df = pd.merge(df1, df2, on='date')\n",
    "    \n",
    "    return merged_df\n",
    "\n",
    "# Merge DataFrames one by one\n",
    "merged_df = Versicherung_Balkonkraftwerk.copy()  # Make a copy to keep the original DataFrame intact\n",
    "dataframes_to_merge = [Fahrrad_E_Scooter, Solarspeicher_THG_Solargenerator_Wärmepumpe,\n",
    "                       auto_und_zubehör, google_e_auto, Motorrad_Energie_Verkehr,\n",
    "                       Wallbox_Laden_Solaranlagen_E_Bike]\n",
    "\n",
    "for df_to_merge in dataframes_to_merge:\n",
    "    merged_df = merge_and_drop(merged_df, df_to_merge)\n",
    "\n",
    "# Reset index to move 'date' from index to a regular column\n",
    "merged_df.reset_index(inplace=True)\n",
    "\n",
    "# Display the merged DataFrame\n",
    "print(merged_df)\n"
   ]
  },
  {
   "cell_type": "code",
   "execution_count": null,
   "metadata": {},
   "outputs": [],
   "source": [
    "merged_df"
   ]
  },
  {
   "cell_type": "code",
   "execution_count": null,
   "metadata": {},
   "outputs": [],
   "source": [
    "merged_df.to_csv('../data/google_trends.csv', encoding='utf-8', index=False)"
   ]
  }
 ],
 "metadata": {
  "kernelspec": {
   "display_name": ".venv",
   "language": "python",
   "name": "python3"
  },
  "language_info": {
   "codemirror_mode": {
    "name": "ipython",
    "version": 3
   },
   "file_extension": ".py",
   "mimetype": "text/x-python",
   "name": "python",
   "nbconvert_exporter": "python",
   "pygments_lexer": "ipython3",
   "version": "3.11.3"
  }
 },
 "nbformat": 4,
 "nbformat_minor": 2
}
