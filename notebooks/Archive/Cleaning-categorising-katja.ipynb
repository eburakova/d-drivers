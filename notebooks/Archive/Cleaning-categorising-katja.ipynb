{
 "cells": [
  {
   "cell_type": "code",
   "execution_count": 1,
   "metadata": {},
   "outputs": [],
   "source": [
    "import pandas as pd\n",
    "pd.set_option('display.max_columns', None)\n",
    "pd.set_option('display.max_colwidth', None)\n",
    "pd.plotting.register_matplotlib_converters()\n",
    "\n",
    "import numpy as np\n",
    "import seaborn as sns\n",
    "import missingno as mgn\n",
    "\n",
    "import plotly.express as px"
   ]
  },
  {
   "cell_type": "markdown",
   "metadata": {},
   "source": [
    "Reading the data with standard preprocessing steps"
   ]
  },
  {
   "cell_type": "code",
   "execution_count": 2,
   "metadata": {},
   "outputs": [],
   "source": [
    "# Just the new file only - for now\n",
    "df1 = pd.read_excel('../data/data_d-drivers_2024-03-24.xlsx', sheet_name='data',\n",
    "                    )\n",
    "df2 = pd.read_excel('../data/data_d-drivers_2024-03-26.xlsx', sheet_name='data')\n",
    "\n",
    "df1.columns = [col.lower() for col in df1.columns]\n",
    "df2.columns = [col.lower() for col in df2.columns]\n",
    "\n",
    "df1.rename({\n",
    "           'impressions': 'page_impressions',\n",
    "           'page_efahrer_id': 'page_id',\n",
    "           'published_at': 'publish_date',\n",
    "           'page_canonical_url': 'url',\n",
    "           'page_author': 'authors', \n",
    "            }, axis=1, inplace=True)\n",
    "\n",
    "df2.rename({\n",
    "           'impressions': 'page_impressions',\n",
    "           'page_efahrer_id': 'page_id',\n",
    "           'published_at': 'publish_date',\n",
    "           'page_canonical_url': 'url',\n",
    "           'page_author': 'authors', \n",
    "            }, axis=1, inplace=True)"
   ]
  },
  {
   "cell_type": "markdown",
   "metadata": {},
   "source": [
    "What makes each entry unique?"
   ]
  },
  {
   "cell_type": "code",
   "execution_count": 3,
   "metadata": {},
   "outputs": [
    {
     "data": {
      "text/html": [
       "<div>\n",
       "<style scoped>\n",
       "    .dataframe tbody tr th:only-of-type {\n",
       "        vertical-align: middle;\n",
       "    }\n",
       "\n",
       "    .dataframe tbody tr th {\n",
       "        vertical-align: top;\n",
       "    }\n",
       "\n",
       "    .dataframe thead th {\n",
       "        text-align: right;\n",
       "    }\n",
       "</style>\n",
       "<table border=\"1\" class=\"dataframe\">\n",
       "  <thead>\n",
       "    <tr style=\"text-align: right;\">\n",
       "      <th></th>\n",
       "      <th>page_id</th>\n",
       "      <th>date</th>\n",
       "      <th>publish_date</th>\n",
       "      <th>publish_date_equal_to_date</th>\n",
       "      <th>url</th>\n",
       "      <th>page_name</th>\n",
       "      <th>classification_product</th>\n",
       "      <th>classification_type</th>\n",
       "      <th>title</th>\n",
       "      <th>authors</th>\n",
       "      <th>daily_likes</th>\n",
       "      <th>daily_dislikes</th>\n",
       "      <th>word_count</th>\n",
       "      <th>video_play</th>\n",
       "      <th>clickouts</th>\n",
       "      <th>external_clicks</th>\n",
       "      <th>external_impressions</th>\n",
       "    </tr>\n",
       "  </thead>\n",
       "  <tbody>\n",
       "    <tr>\n",
       "      <th>66544</th>\n",
       "      <td>1018299</td>\n",
       "      <td>2024-03-04</td>\n",
       "      <td>NaT</td>\n",
       "      <td>N</td>\n",
       "      <td>https://efahrer.chip.de/news/neuvorstellung-des-fiat-pandina-der-panda-bekommt-ein-geschwisterchen_1018299</td>\n",
       "      <td>efa-1018299 | Der Panda bekommt ein kleines Geschwisterchen: Neuvorstellung des Fiat Pandina</td>\n",
       "      <td>Auto</td>\n",
       "      <td>News</td>\n",
       "      <td>Neuvorstellung des Fiat Pandina: Der Panda bekommt ein Geschwisterchen - EFAHRER.com</td>\n",
       "      <td>JÃ¼rgen Wolff</td>\n",
       "      <td>NaN</td>\n",
       "      <td>NaN</td>\n",
       "      <td>NaN</td>\n",
       "      <td>41.0</td>\n",
       "      <td>0.0</td>\n",
       "      <td>23.0</td>\n",
       "      <td>771.0</td>\n",
       "    </tr>\n",
       "    <tr>\n",
       "      <th>78658</th>\n",
       "      <td>1018299</td>\n",
       "      <td>2024-03-04</td>\n",
       "      <td>NaT</td>\n",
       "      <td>N</td>\n",
       "      <td>https://efahrer.chip.de/news/neuvorstellung-des-fiat-pandina-der-panda-bekommt-ein-geschwisterchen_1018299</td>\n",
       "      <td>efa-1018299 | Der Panda bekommt ein kleines Geschwisterchen: Neuvorstellung des Fiat Pandina</td>\n",
       "      <td>Auto</td>\n",
       "      <td>News</td>\n",
       "      <td>Neuvorstellung des Fiat Pandina: Der Panda bekommt ein Geschwisterchen - EFAHRER.com</td>\n",
       "      <td>JÃ¼rgen Wolff</td>\n",
       "      <td>NaN</td>\n",
       "      <td>NaN</td>\n",
       "      <td>NaN</td>\n",
       "      <td>NaN</td>\n",
       "      <td>NaN</td>\n",
       "      <td>NaN</td>\n",
       "      <td>NaN</td>\n",
       "    </tr>\n",
       "  </tbody>\n",
       "</table>\n",
       "</div>"
      ],
      "text/plain": [
       "       page_id       date publish_date publish_date_equal_to_date   \n",
       "66544  1018299 2024-03-04          NaT                          N  \\\n",
       "78658  1018299 2024-03-04          NaT                          N   \n",
       "\n",
       "                                                                                                              url   \n",
       "66544  https://efahrer.chip.de/news/neuvorstellung-des-fiat-pandina-der-panda-bekommt-ein-geschwisterchen_1018299  \\\n",
       "78658  https://efahrer.chip.de/news/neuvorstellung-des-fiat-pandina-der-panda-bekommt-ein-geschwisterchen_1018299   \n",
       "\n",
       "                                                                                          page_name   \n",
       "66544  efa-1018299 | Der Panda bekommt ein kleines Geschwisterchen: Neuvorstellung des Fiat Pandina  \\\n",
       "78658  efa-1018299 | Der Panda bekommt ein kleines Geschwisterchen: Neuvorstellung des Fiat Pandina   \n",
       "\n",
       "      classification_product classification_type   \n",
       "66544                   Auto                News  \\\n",
       "78658                   Auto                News   \n",
       "\n",
       "                                                                                      title   \n",
       "66544  Neuvorstellung des Fiat Pandina: Der Panda bekommt ein Geschwisterchen - EFAHRER.com  \\\n",
       "78658  Neuvorstellung des Fiat Pandina: Der Panda bekommt ein Geschwisterchen - EFAHRER.com   \n",
       "\n",
       "             authors  daily_likes  daily_dislikes  word_count  video_play   \n",
       "66544  JÃ¼rgen Wolff          NaN             NaN         NaN        41.0  \\\n",
       "78658  JÃ¼rgen Wolff          NaN             NaN         NaN         NaN   \n",
       "\n",
       "       clickouts  external_clicks  external_impressions  \n",
       "66544        0.0             23.0                 771.0  \n",
       "78658        NaN              NaN                   NaN  "
      ]
     },
     "execution_count": 3,
     "metadata": {},
     "output_type": "execute_result"
    }
   ],
   "source": [
    "df1[df1[['page_id', 'date', 'url', 'authors', 'word_count']].duplicated(keep=False)] # keep=False keeps all duplicated values\n",
    "                                    #.sort_values(['page_id', 'date', 'url', 'page_author'])"
   ]
  },
  {
   "cell_type": "markdown",
   "metadata": {},
   "source": [
    "By experimenting with different sets of columns I found those are \n",
    "\n",
    "> 'page_id', 'date', 'url', 'authors', 'word_count'\n",
    "\n",
    "* NOT the `page_name`: it is totally broken\n",
    "* NOT the `publish_date`: sometimes the articles changed several times during the day and the word count changed, so `publish_date` does not capture all combinations\n",
    "\n",
    "Addressing the rows by all of those columns makes every article unique but just a single one: 1018299 (rows 66544 and 78658). But the second entry is just a mistake with all missing values, it can be simply dropped. "
   ]
  },
  {
   "cell_type": "code",
   "execution_count": 4,
   "metadata": {},
   "outputs": [],
   "source": [
    "df1.drop(78658, inplace=True)"
   ]
  },
  {
   "cell_type": "markdown",
   "metadata": {},
   "source": [
    "Merge on those:"
   ]
  },
  {
   "cell_type": "code",
   "execution_count": 5,
   "metadata": {},
   "outputs": [],
   "source": [
    "key_columns = ['page_id', 'date', 'url', 'authors', 'word_count']"
   ]
  },
  {
   "cell_type": "markdown",
   "metadata": {},
   "source": [
    "What columns are in `df1` and not in `df2`?"
   ]
  },
  {
   "cell_type": "code",
   "execution_count": 6,
   "metadata": {},
   "outputs": [
    {
     "name": "stdout",
     "output_type": "stream",
     "text": [
      "Index(['page_impressions'], dtype='object')\n",
      "Index(['clickouts'], dtype='object')\n"
     ]
    }
   ],
   "source": [
    "print(df2.columns.difference(df1.columns))\n",
    "print(df1.columns.difference(df2.columns))"
   ]
  },
  {
   "cell_type": "markdown",
   "metadata": {},
   "source": [
    "So the page impressions only present in the 2nd delivery, and clockouts only in the first delivery. \n",
    "We will merge the *first to the second*, so in the first dataset we only want to have the key columns and the unique one."
   ]
  },
  {
   "cell_type": "code",
   "execution_count": 7,
   "metadata": {},
   "outputs": [],
   "source": [
    "df1 = df1[key_columns + ['clickouts']]"
   ]
  },
  {
   "cell_type": "markdown",
   "metadata": {},
   "source": [
    "What pages are in df1 and not in df2 and the other way around?"
   ]
  },
  {
   "cell_type": "code",
   "execution_count": 8,
   "metadata": {},
   "outputs": [
    {
     "name": "stdout",
     "output_type": "stream",
     "text": [
      "Index([], dtype='int64', name='page_id')\n",
      "Index([1018667, 1018673, 1018687, 1018743, 1018770, 1018771, 1018776, 1018782], dtype='int64', name='page_id')\n"
     ]
    }
   ],
   "source": [
    "print(df1.set_index('page_id').index.difference(df2.set_index('page_id').index))\n",
    "print(df2.set_index('page_id').index.difference(df1.set_index('page_id').index))"
   ]
  },
  {
   "cell_type": "markdown",
   "metadata": {},
   "source": [
    "> The new data delivery includes all pages from the first one + 8 new ones."
   ]
  },
  {
   "cell_type": "markdown",
   "metadata": {},
   "source": [
    "What `URLs` are in df1 and not in df2 and the other way around?"
   ]
  },
  {
   "cell_type": "code",
   "execution_count": 9,
   "metadata": {},
   "outputs": [
    {
     "name": "stdout",
     "output_type": "stream",
     "text": [
      "Index([], dtype='object', name='url')\n",
      "Index(['https://efahrer.chip.de/news/4-module-optionaler-speicher-haendler-setzt-balkonkraftwerk-auf-799-euro-runter_1017455',\n",
      "       'https://efahrer.chip.de/news/ampeln-mit-neuer-farbe-weiss-will-das-leben-aller-verkehrsteilnehmer-verbessern_1011583',\n",
      "       'https://efahrer.chip.de/news/angebot-nur-bis-ostern-so-bekommen-sie-1000-euro-rabatt-auf-ihre-solaranlage_1018573',\n",
      "       'https://efahrer.chip.de/news/auch-mit-halterung-bei-diesem-balkonkraftwerk-preis-schlucken-selbst-discounter_1014858',\n",
      "       'https://efahrer.chip.de/news/batterie-geheimnisse-maenner-sollen-tesla-bestohlen-und-firma-gegruendet-haben_1018770',\n",
      "       'https://efahrer.chip.de/news/buegelschloss-mit-fingerabdrucksensor-bei-aldi_1013493',\n",
      "       'https://efahrer.chip.de/news/dashcam-schnaeppchen-bei-amazon-das-taugt-die-kamera-fuer-unter-40-euro_1018667',\n",
      "       'https://efahrer.chip.de/news/e-auto-fahrer-sind-fein-raus-deutsches-gericht-erzwingt-schaerfere-fahrverbote_1018776',\n",
      "       'https://efahrer.chip.de/news/es-kommt-mit-4-modulen-leipziger-setzen-balkonkraftwerk-vor-ostern-herunter_1013676',\n",
      "       'https://efahrer.chip.de/news/gehweg-mit-zwei-schildern-fuer-fahrradfahrer-jetzt-muessen-sie-genau-aufpassen_1018712',\n",
      "       'https://efahrer.chip.de/news/irren-pfusch-am-e-auto-lader-kann-jeder-nachbauen-ist-dieser-hack-gefaehrlich_1018743',\n",
      "       'https://efahrer.chip.de/news/kleiner-e-franzose-aus-2-hand-den-renault-zoe-gibts-ab-gut-13000-euro_1018123',\n",
      "       'https://efahrer.chip.de/news/klimaschutz-aber-bezahlbar-efahrercom-kuert-beste-regionale-solarfirmen_1018782',\n",
      "       'https://efahrer.chip.de/news/kostet-nur-270-euro-so-kriegen-sie-dieses-balkonkraftwerk-guenstiger_1017582',\n",
      "       'https://efahrer.chip.de/news/marken-navi-zum-knallerpreis-bei-diesem-haendler-sparen-sie-ordentlich_1018673',\n",
      "       'https://efahrer.chip.de/news/mehr-leistung-als-andere-plus-speicher-anker-reduziert-krasses-balkonkraftwerk_1017037',\n",
      "       'https://efahrer.chip.de/news/neues-e-auto-kommt-500-kilometer-weit-es-kostet-nur-12000-euro_1018698',\n",
      "       'https://efahrer.chip.de/news/schnaeppchen-bei-amazon-redtiger-dashcam-mehr-als-50-euro-billiger_1018687',\n",
      "       'https://efahrer.chip.de/news/skoda-enyaq-60-preis-leasing-deal-privat-gewerbe_1014786',\n",
      "       'https://efahrer.chip.de/news/solarbesitzer-will-winterengpaesse-ueberbruecken-er-baut-16-meter-langen-zaun_1018677',\n",
      "       'https://efahrer.chip.de/news/test-legt-offen-diese-solaranbieter-beraten-sie-am-am-besten_1017864',\n",
      "       'https://efahrer.chip.de/news/wallboxen-guenstig-kaufen-das-sind-die-guenstigsten-ladestationen-fuer-e-autos_1018771'],\n",
      "      dtype='object', name='url')\n"
     ]
    }
   ],
   "source": [
    "print(df1.set_index('url').index.difference(df2.set_index('url').index))\n",
    "print(df2.set_index('url').index.difference(df1.set_index('url').index))"
   ]
  },
  {
   "cell_type": "markdown",
   "metadata": {},
   "source": [
    "> 22 new URLs"
   ]
  },
  {
   "cell_type": "markdown",
   "metadata": {},
   "source": [
    "Which dates are new?"
   ]
  },
  {
   "cell_type": "code",
   "execution_count": 10,
   "metadata": {},
   "outputs": [
    {
     "name": "stdout",
     "output_type": "stream",
     "text": [
      "DatetimeIndex([], dtype='datetime64[ns]', name='date', freq=None)\n",
      "DatetimeIndex(['2024-03-23'], dtype='datetime64[ns]', name='date', freq=None)\n"
     ]
    }
   ],
   "source": [
    "print(df1.set_index('date').index.difference(df2.set_index('date').index))\n",
    "print(df2.set_index('date').index.difference(df1.set_index('date').index))"
   ]
  },
  {
   "cell_type": "markdown",
   "metadata": {},
   "source": [
    "> The day between the first and the second data deliveries, makes a lot of sense :D"
   ]
  },
  {
   "cell_type": "code",
   "execution_count": 11,
   "metadata": {},
   "outputs": [
    {
     "name": "stdout",
     "output_type": "stream",
     "text": [
      "No duplicates left in the first dataframe\n"
     ]
    }
   ],
   "source": [
    "if df1.shape == df1.drop_duplicates().shape:\n",
    "    print('No duplicates left in the first dataframe')\n",
    "else: \n",
    "    print('Duplicated entries present: merging will blow up the data frame size')"
   ]
  },
  {
   "cell_type": "code",
   "execution_count": 12,
   "metadata": {},
   "outputs": [
    {
     "name": "stdout",
     "output_type": "stream",
     "text": [
      "Duplicated entries present: merging will blow up the data frame size\n"
     ]
    }
   ],
   "source": [
    "if df2[key_columns].shape == df2[key_columns].drop_duplicates().shape:\n",
    "    print('No duplicates are in the second dataframe')\n",
    "else: \n",
    "    print('Duplicated entries present: merging will blow up the data frame size')"
   ]
  },
  {
   "cell_type": "code",
   "execution_count": 13,
   "metadata": {},
   "outputs": [
    {
     "data": {
      "text/html": [
       "<div>\n",
       "<style scoped>\n",
       "    .dataframe tbody tr th:only-of-type {\n",
       "        vertical-align: middle;\n",
       "    }\n",
       "\n",
       "    .dataframe tbody tr th {\n",
       "        vertical-align: top;\n",
       "    }\n",
       "\n",
       "    .dataframe thead th {\n",
       "        text-align: right;\n",
       "    }\n",
       "</style>\n",
       "<table border=\"1\" class=\"dataframe\">\n",
       "  <thead>\n",
       "    <tr style=\"text-align: right;\">\n",
       "      <th></th>\n",
       "      <th>page_id</th>\n",
       "      <th>date</th>\n",
       "      <th>publish_date</th>\n",
       "      <th>publish_date_equal_to_date</th>\n",
       "      <th>url</th>\n",
       "      <th>page_name</th>\n",
       "      <th>classification_product</th>\n",
       "      <th>classification_type</th>\n",
       "      <th>title</th>\n",
       "      <th>authors</th>\n",
       "      <th>daily_likes</th>\n",
       "      <th>daily_dislikes</th>\n",
       "      <th>word_count</th>\n",
       "      <th>video_play</th>\n",
       "      <th>page_impressions</th>\n",
       "      <th>external_clicks</th>\n",
       "      <th>external_impressions</th>\n",
       "    </tr>\n",
       "  </thead>\n",
       "  <tbody>\n",
       "    <tr>\n",
       "      <th>40600</th>\n",
       "      <td>1018299</td>\n",
       "      <td>2024-03-04</td>\n",
       "      <td>NaT</td>\n",
       "      <td>N</td>\n",
       "      <td>https://efahrer.chip.de/news/neuvorstellung-des-fiat-pandina-der-panda-bekommt-ein-geschwisterchen_1018299</td>\n",
       "      <td>efa-1018299 | Der Panda bekommt ein kleines Geschwisterchen: Neuvorstellung des Fiat Pandina</td>\n",
       "      <td>Auto</td>\n",
       "      <td>News</td>\n",
       "      <td>Der Panda bekommt ein kleines Geschwisterchen: Neuvorstellung des Fiat Pandina</td>\n",
       "      <td>Jürgen Wolff</td>\n",
       "      <td>NaN</td>\n",
       "      <td>NaN</td>\n",
       "      <td>NaN</td>\n",
       "      <td>NaN</td>\n",
       "      <td>NaN</td>\n",
       "      <td>NaN</td>\n",
       "      <td>NaN</td>\n",
       "    </tr>\n",
       "    <tr>\n",
       "      <th>107004</th>\n",
       "      <td>1018299</td>\n",
       "      <td>2024-03-04</td>\n",
       "      <td>NaT</td>\n",
       "      <td>N</td>\n",
       "      <td>https://efahrer.chip.de/news/neuvorstellung-des-fiat-pandina-der-panda-bekommt-ein-geschwisterchen_1018299</td>\n",
       "      <td>efa-1018299 | Der Panda bekommt ein kleines Geschwisterchen: Neuvorstellung des Fiat Pandina</td>\n",
       "      <td>Auto</td>\n",
       "      <td>News</td>\n",
       "      <td>Der Panda bekommt ein kleines Geschwisterchen: Neuvorstellung des Fiat Pandina</td>\n",
       "      <td>Jürgen Wolff</td>\n",
       "      <td>NaN</td>\n",
       "      <td>NaN</td>\n",
       "      <td>NaN</td>\n",
       "      <td>41.0</td>\n",
       "      <td>72.0</td>\n",
       "      <td>23.0</td>\n",
       "      <td>771.0</td>\n",
       "    </tr>\n",
       "  </tbody>\n",
       "</table>\n",
       "</div>"
      ],
      "text/plain": [
       "        page_id       date publish_date publish_date_equal_to_date   \n",
       "40600   1018299 2024-03-04          NaT                          N  \\\n",
       "107004  1018299 2024-03-04          NaT                          N   \n",
       "\n",
       "                                                                                                               url   \n",
       "40600   https://efahrer.chip.de/news/neuvorstellung-des-fiat-pandina-der-panda-bekommt-ein-geschwisterchen_1018299  \\\n",
       "107004  https://efahrer.chip.de/news/neuvorstellung-des-fiat-pandina-der-panda-bekommt-ein-geschwisterchen_1018299   \n",
       "\n",
       "                                                                                           page_name   \n",
       "40600   efa-1018299 | Der Panda bekommt ein kleines Geschwisterchen: Neuvorstellung des Fiat Pandina  \\\n",
       "107004  efa-1018299 | Der Panda bekommt ein kleines Geschwisterchen: Neuvorstellung des Fiat Pandina   \n",
       "\n",
       "       classification_product classification_type   \n",
       "40600                    Auto                News  \\\n",
       "107004                   Auto                News   \n",
       "\n",
       "                                                                                  title   \n",
       "40600    Der Panda bekommt ein kleines Geschwisterchen: Neuvorstellung des Fiat Pandina  \\\n",
       "107004   Der Panda bekommt ein kleines Geschwisterchen: Neuvorstellung des Fiat Pandina   \n",
       "\n",
       "             authors  daily_likes  daily_dislikes  word_count  video_play   \n",
       "40600   Jürgen Wolff          NaN             NaN         NaN         NaN  \\\n",
       "107004  Jürgen Wolff          NaN             NaN         NaN        41.0   \n",
       "\n",
       "        page_impressions  external_clicks  external_impressions  \n",
       "40600                NaN              NaN                   NaN  \n",
       "107004              72.0             23.0                 771.0  "
      ]
     },
     "execution_count": 13,
     "metadata": {},
     "output_type": "execute_result"
    }
   ],
   "source": [
    "df2[df2[key_columns].duplicated(keep=False)] # keep=False keeps all duplicated values\n",
    "                                    #.sort_values(['page_id', 'date', 'url', 'page_author'])"
   ]
  },
  {
   "cell_type": "markdown",
   "metadata": {},
   "source": [
    "Same mistake is in `df2`: remove it."
   ]
  },
  {
   "cell_type": "code",
   "execution_count": 14,
   "metadata": {},
   "outputs": [],
   "source": [
    "df2.drop(40600, inplace=True)"
   ]
  },
  {
   "cell_type": "code",
   "execution_count": 15,
   "metadata": {},
   "outputs": [
    {
     "name": "stdout",
     "output_type": "stream",
     "text": [
      "No duplicates are in the second dataframe\n"
     ]
    }
   ],
   "source": [
    "if df2[key_columns].shape == df2[key_columns].drop_duplicates().shape:\n",
    "    print('No duplicates are in the second dataframe')\n",
    "else: \n",
    "    print('Duplicated entries present: merging will blow up the data frame size')"
   ]
  },
  {
   "cell_type": "markdown",
   "metadata": {},
   "source": [
    "Yuppi, now we are ready to merge!"
   ]
  },
  {
   "cell_type": "markdown",
   "metadata": {},
   "source": [
    "## Merging\n",
    "\n",
    "Using the `left` merging: we already know that `df1` is malformatted"
   ]
  },
  {
   "cell_type": "code",
   "execution_count": 16,
   "metadata": {},
   "outputs": [
    {
     "data": {
      "text/html": [
       "<div>\n",
       "<style scoped>\n",
       "    .dataframe tbody tr th:only-of-type {\n",
       "        vertical-align: middle;\n",
       "    }\n",
       "\n",
       "    .dataframe tbody tr th {\n",
       "        vertical-align: top;\n",
       "    }\n",
       "\n",
       "    .dataframe thead th {\n",
       "        text-align: right;\n",
       "    }\n",
       "</style>\n",
       "<table border=\"1\" class=\"dataframe\">\n",
       "  <thead>\n",
       "    <tr style=\"text-align: right;\">\n",
       "      <th></th>\n",
       "      <th>page_id</th>\n",
       "      <th>date</th>\n",
       "      <th>publish_date</th>\n",
       "      <th>publish_date_equal_to_date</th>\n",
       "      <th>url</th>\n",
       "      <th>page_name</th>\n",
       "      <th>classification_product</th>\n",
       "      <th>classification_type</th>\n",
       "      <th>title</th>\n",
       "      <th>authors</th>\n",
       "      <th>daily_likes</th>\n",
       "      <th>daily_dislikes</th>\n",
       "      <th>word_count</th>\n",
       "      <th>video_play</th>\n",
       "      <th>page_impressions</th>\n",
       "      <th>external_clicks</th>\n",
       "      <th>external_impressions</th>\n",
       "      <th>clickouts</th>\n",
       "    </tr>\n",
       "  </thead>\n",
       "  <tbody>\n",
       "    <tr>\n",
       "      <th>0</th>\n",
       "      <td>1010803</td>\n",
       "      <td>2023-01-02</td>\n",
       "      <td>NaT</td>\n",
       "      <td>N</td>\n",
       "      <td>https://efahrer.chip.de/news/tariferhoehungen-und-thg-praemie-ladesaeulenbetreiber-ziehen-kunden-ueber-den-tisch_1010803</td>\n",
       "      <td>efa-1010803 | Tariferhöhungen und THG-Prämie: Ladesäulenbetreiber ziehen Kunden über den Tisch</td>\n",
       "      <td>THG</td>\n",
       "      <td>News</td>\n",
       "      <td>Tariferhöhungen und THG-Prämie: Ladesäulenbetreiber ziehen Kunden über den Tisch</td>\n",
       "      <td>Karl Lüdecke</td>\n",
       "      <td>NaN</td>\n",
       "      <td>NaN</td>\n",
       "      <td>NaN</td>\n",
       "      <td>1261.0</td>\n",
       "      <td>1375.0</td>\n",
       "      <td>1301.0</td>\n",
       "      <td>20323.0</td>\n",
       "      <td>NaN</td>\n",
       "    </tr>\n",
       "    <tr>\n",
       "      <th>1</th>\n",
       "      <td>1010592</td>\n",
       "      <td>2023-01-02</td>\n",
       "      <td>NaT</td>\n",
       "      <td>N</td>\n",
       "      <td>https://efahrer.chip.de/news/das-logo-von-alfa-romeo-wofuer-stehen-schlange-und-kreuz_1010592</td>\n",
       "      <td>efa-1010592 | Alfa Romeo: Was bedeuten Schlange und Kreuz?</td>\n",
       "      <td>Auto</td>\n",
       "      <td>News</td>\n",
       "      <td>Alfa Romeo: Was bedeuten Schlange und Kreuz?</td>\n",
       "      <td>Karl Müller</td>\n",
       "      <td>NaN</td>\n",
       "      <td>NaN</td>\n",
       "      <td>NaN</td>\n",
       "      <td>286.0</td>\n",
       "      <td>298.0</td>\n",
       "      <td>164.0</td>\n",
       "      <td>1493.0</td>\n",
       "      <td>NaN</td>\n",
       "    </tr>\n",
       "    <tr>\n",
       "      <th>2</th>\n",
       "      <td>1010719</td>\n",
       "      <td>2023-01-05</td>\n",
       "      <td>NaT</td>\n",
       "      <td>N</td>\n",
       "      <td>https://efahrer.chip.de/news/titel-ist-zurueck-in-deutschland-forscher-entwickeln-effizienteste-solarzelle_1010719</td>\n",
       "      <td>efa-1010719 | Rennen um die effizienteste Solarzelle: Deutsche holen sich den Titel zurück</td>\n",
       "      <td>Solaranlagen</td>\n",
       "      <td>News</td>\n",
       "      <td>Rennen um die effizienteste Solarzelle: Deutsche holen sich den Titel zurück</td>\n",
       "      <td>Aslan Berse</td>\n",
       "      <td>NaN</td>\n",
       "      <td>NaN</td>\n",
       "      <td>NaN</td>\n",
       "      <td>156.0</td>\n",
       "      <td>300.0</td>\n",
       "      <td>303.0</td>\n",
       "      <td>4912.0</td>\n",
       "      <td>0.0</td>\n",
       "    </tr>\n",
       "    <tr>\n",
       "      <th>3</th>\n",
       "      <td>1010727</td>\n",
       "      <td>2023-01-05</td>\n",
       "      <td>NaT</td>\n",
       "      <td>N</td>\n",
       "      <td>https://efahrer.chip.de/news/entlastungen-fuer-heizoel-kunden-wer-keinen-antrag-stellt-bekommt-gar-nichts_1010727</td>\n",
       "      <td>efa-1010727 | Antrag stellen oder leer ausgehen: Diese Entlastung ist für Heizöl-Kunden geplan</td>\n",
       "      <td>Energie</td>\n",
       "      <td>Ratgeber</td>\n",
       "      <td>Antrag stellen oder leer ausgehen: Diese Entlastung ist für Heizöl-Kunden geplan</td>\n",
       "      <td>CHIP</td>\n",
       "      <td>NaN</td>\n",
       "      <td>NaN</td>\n",
       "      <td>NaN</td>\n",
       "      <td>16.0</td>\n",
       "      <td>55.0</td>\n",
       "      <td>14009.0</td>\n",
       "      <td>92422.0</td>\n",
       "      <td>0.0</td>\n",
       "    </tr>\n",
       "    <tr>\n",
       "      <th>4</th>\n",
       "      <td>1010557</td>\n",
       "      <td>2023-01-02</td>\n",
       "      <td>2023-01-02</td>\n",
       "      <td>Y</td>\n",
       "      <td>https://efahrer.chip.de/news/solaranlage-auch-fuer-mieter-das-sind-die-besten-modelle-fuer-ihren-balkon_1010557</td>\n",
       "      <td>efa-1010557 | Balkonkraftwerk kaufen: Das sind die besten Modelle</td>\n",
       "      <td>Balkonkraftwerk</td>\n",
       "      <td>Kaufberatung</td>\n",
       "      <td>Balkonkraftwerk kaufen: Das sind die besten Modelle</td>\n",
       "      <td>Eva Goldschald</td>\n",
       "      <td>17.0</td>\n",
       "      <td>1.0</td>\n",
       "      <td>1513.0</td>\n",
       "      <td>174.0</td>\n",
       "      <td>128.0</td>\n",
       "      <td>6494.0</td>\n",
       "      <td>114984.0</td>\n",
       "      <td>21.0</td>\n",
       "    </tr>\n",
       "    <tr>\n",
       "      <th>...</th>\n",
       "      <td>...</td>\n",
       "      <td>...</td>\n",
       "      <td>...</td>\n",
       "      <td>...</td>\n",
       "      <td>...</td>\n",
       "      <td>...</td>\n",
       "      <td>...</td>\n",
       "      <td>...</td>\n",
       "      <td>...</td>\n",
       "      <td>...</td>\n",
       "      <td>...</td>\n",
       "      <td>...</td>\n",
       "      <td>...</td>\n",
       "      <td>...</td>\n",
       "      <td>...</td>\n",
       "      <td>...</td>\n",
       "      <td>...</td>\n",
       "      <td>...</td>\n",
       "    </tr>\n",
       "    <tr>\n",
       "      <th>132840</th>\n",
       "      <td>1010297</td>\n",
       "      <td>2023-11-17</td>\n",
       "      <td>2023-11-17</td>\n",
       "      <td>Y</td>\n",
       "      <td>https://efahrer.chip.de/news/hammer-preis-fuer-hammer-auto-hyundai-ioniq-6-schon-fuer-200-euro-im-leasing_1010297</td>\n",
       "      <td>efa-1010297 | Hyundai IONIQ 6 Deal</td>\n",
       "      <td>E-Auto</td>\n",
       "      <td>Deal</td>\n",
       "      <td>Hyundai IONIQ 6 Deal</td>\n",
       "      <td>Lisa Brack</td>\n",
       "      <td>0.0</td>\n",
       "      <td>0.0</td>\n",
       "      <td>725.0</td>\n",
       "      <td>1.0</td>\n",
       "      <td>1.0</td>\n",
       "      <td>905.0</td>\n",
       "      <td>12463.0</td>\n",
       "      <td>0.0</td>\n",
       "    </tr>\n",
       "    <tr>\n",
       "      <th>132841</th>\n",
       "      <td>1014887</td>\n",
       "      <td>2023-12-31</td>\n",
       "      <td>2023-12-13</td>\n",
       "      <td>N</td>\n",
       "      <td>https://efahrer.chip.de/news/aldi-verkauft-rueckfahrkamera-fuers-auto-der-selbsteinbau-soll-ein-klacks-sein_1014887</td>\n",
       "      <td>efa-1014887 | Aldi verkauft Rückfahrkamera fürs Auto: Der Selbsteinbau soll ein Klacks sein</td>\n",
       "      <td>Zubehör</td>\n",
       "      <td>Deal</td>\n",
       "      <td>Aldi verkauft Rückfahrkamera fürs Auto: Der Selbsteinbau soll ein Klacks sein</td>\n",
       "      <td>Vanessa Finkler</td>\n",
       "      <td>0.0</td>\n",
       "      <td>0.0</td>\n",
       "      <td>535.0</td>\n",
       "      <td>0.0</td>\n",
       "      <td>1.0</td>\n",
       "      <td>95.0</td>\n",
       "      <td>1048.0</td>\n",
       "      <td>0.0</td>\n",
       "    </tr>\n",
       "    <tr>\n",
       "      <th>132842</th>\n",
       "      <td>105946</td>\n",
       "      <td>2024-01-18</td>\n",
       "      <td>2024-01-16</td>\n",
       "      <td>N</td>\n",
       "      <td>https://efahrer.chip.de/news/guenstiges-e-auto-trotz-praemien-aus-bei-diesen-neuwagen-sparen-sie-am-meisten_105946</td>\n",
       "      <td>efa-105946 | E-Autos mit kurzer Lieferzeit: Fiat 500e, Polestar 2, Renault Twingo und mehr</td>\n",
       "      <td>E-Auto</td>\n",
       "      <td>Deal</td>\n",
       "      <td>E-Autos mit kurzer Lieferzeit: Fiat 500e, Polestar 2, Renault Twingo und mehr</td>\n",
       "      <td>Benjamin Dizdar</td>\n",
       "      <td>0.0</td>\n",
       "      <td>0.0</td>\n",
       "      <td>2142.0</td>\n",
       "      <td>0.0</td>\n",
       "      <td>1.0</td>\n",
       "      <td>10.0</td>\n",
       "      <td>106.0</td>\n",
       "      <td>0.0</td>\n",
       "    </tr>\n",
       "    <tr>\n",
       "      <th>132843</th>\n",
       "      <td>1014127</td>\n",
       "      <td>2023-08-17</td>\n",
       "      <td>NaT</td>\n",
       "      <td>N</td>\n",
       "      <td>https://efahrer.chip.de/news/urlaubshoelle-in-italien-deutscher-strandet-mit-billigem-e-auto_1014127</td>\n",
       "      <td>efa-1014127 | Urlaubshölle in Italien: Deutsche stranden mit billigem E-Auto</td>\n",
       "      <td>E-Auto</td>\n",
       "      <td>News</td>\n",
       "      <td>Urlaubshölle in Italien: Deutsche stranden mit billigem E-Auto</td>\n",
       "      <td>Vanessa Finkler</td>\n",
       "      <td>NaN</td>\n",
       "      <td>NaN</td>\n",
       "      <td>NaN</td>\n",
       "      <td>0.0</td>\n",
       "      <td>1.0</td>\n",
       "      <td>5820.0</td>\n",
       "      <td>83900.0</td>\n",
       "      <td>0.0</td>\n",
       "    </tr>\n",
       "    <tr>\n",
       "      <th>132844</th>\n",
       "      <td>1011976</td>\n",
       "      <td>2024-01-19</td>\n",
       "      <td>2024-01-16</td>\n",
       "      <td>N</td>\n",
       "      <td>https://efahrer.chip.de/news/heizkoerper-ventilatoren-was-die-klemm-luefter-unter-heizungen-wirklich-bringen_1011976</td>\n",
       "      <td>efa-1011976 | Hausbesitzer testet Heizkörperbooster mit Wärmepumpe: Mit eindeutigem Ergebnis</td>\n",
       "      <td>Energie</td>\n",
       "      <td>Deal</td>\n",
       "      <td>Hausbesitzer testet Heizkörperbooster mit Wärmepumpe: Mit eindeutigem Ergebnis</td>\n",
       "      <td>Redaktion EFAHRER</td>\n",
       "      <td>0.0</td>\n",
       "      <td>0.0</td>\n",
       "      <td>859.0</td>\n",
       "      <td>0.0</td>\n",
       "      <td>1.0</td>\n",
       "      <td>1481.0</td>\n",
       "      <td>31154.0</td>\n",
       "      <td>0.0</td>\n",
       "    </tr>\n",
       "  </tbody>\n",
       "</table>\n",
       "<p>132845 rows × 18 columns</p>\n",
       "</div>"
      ],
      "text/plain": [
       "        page_id       date publish_date publish_date_equal_to_date   \n",
       "0       1010803 2023-01-02          NaT                          N  \\\n",
       "1       1010592 2023-01-02          NaT                          N   \n",
       "2       1010719 2023-01-05          NaT                          N   \n",
       "3       1010727 2023-01-05          NaT                          N   \n",
       "4       1010557 2023-01-02   2023-01-02                          Y   \n",
       "...         ...        ...          ...                        ...   \n",
       "132840  1010297 2023-11-17   2023-11-17                          Y   \n",
       "132841  1014887 2023-12-31   2023-12-13                          N   \n",
       "132842   105946 2024-01-18   2024-01-16                          N   \n",
       "132843  1014127 2023-08-17          NaT                          N   \n",
       "132844  1011976 2024-01-19   2024-01-16                          N   \n",
       "\n",
       "                                                                                                                             url   \n",
       "0       https://efahrer.chip.de/news/tariferhoehungen-und-thg-praemie-ladesaeulenbetreiber-ziehen-kunden-ueber-den-tisch_1010803  \\\n",
       "1                                  https://efahrer.chip.de/news/das-logo-von-alfa-romeo-wofuer-stehen-schlange-und-kreuz_1010592   \n",
       "2             https://efahrer.chip.de/news/titel-ist-zurueck-in-deutschland-forscher-entwickeln-effizienteste-solarzelle_1010719   \n",
       "3              https://efahrer.chip.de/news/entlastungen-fuer-heizoel-kunden-wer-keinen-antrag-stellt-bekommt-gar-nichts_1010727   \n",
       "4                https://efahrer.chip.de/news/solaranlage-auch-fuer-mieter-das-sind-die-besten-modelle-fuer-ihren-balkon_1010557   \n",
       "...                                                                                                                          ...   \n",
       "132840         https://efahrer.chip.de/news/hammer-preis-fuer-hammer-auto-hyundai-ioniq-6-schon-fuer-200-euro-im-leasing_1010297   \n",
       "132841       https://efahrer.chip.de/news/aldi-verkauft-rueckfahrkamera-fuers-auto-der-selbsteinbau-soll-ein-klacks-sein_1014887   \n",
       "132842        https://efahrer.chip.de/news/guenstiges-e-auto-trotz-praemien-aus-bei-diesen-neuwagen-sparen-sie-am-meisten_105946   \n",
       "132843                      https://efahrer.chip.de/news/urlaubshoelle-in-italien-deutscher-strandet-mit-billigem-e-auto_1014127   \n",
       "132844      https://efahrer.chip.de/news/heizkoerper-ventilatoren-was-die-klemm-luefter-unter-heizungen-wirklich-bringen_1011976   \n",
       "\n",
       "                                                                                             page_name   \n",
       "0       efa-1010803 | Tariferhöhungen und THG-Prämie: Ladesäulenbetreiber ziehen Kunden über den Tisch  \\\n",
       "1                                           efa-1010592 | Alfa Romeo: Was bedeuten Schlange und Kreuz?   \n",
       "2           efa-1010719 | Rennen um die effizienteste Solarzelle: Deutsche holen sich den Titel zurück   \n",
       "3       efa-1010727 | Antrag stellen oder leer ausgehen: Diese Entlastung ist für Heizöl-Kunden geplan   \n",
       "4                                    efa-1010557 | Balkonkraftwerk kaufen: Das sind die besten Modelle   \n",
       "...                                                                                                ...   \n",
       "132840                                                              efa-1010297 | Hyundai IONIQ 6 Deal   \n",
       "132841     efa-1014887 | Aldi verkauft Rückfahrkamera fürs Auto: Der Selbsteinbau soll ein Klacks sein   \n",
       "132842      efa-105946 | E-Autos mit kurzer Lieferzeit: Fiat 500e, Polestar 2, Renault Twingo und mehr   \n",
       "132843                    efa-1014127 | Urlaubshölle in Italien: Deutsche stranden mit billigem E-Auto   \n",
       "132844    efa-1011976 | Hausbesitzer testet Heizkörperbooster mit Wärmepumpe: Mit eindeutigem Ergebnis   \n",
       "\n",
       "       classification_product classification_type   \n",
       "0                         THG                News  \\\n",
       "1                        Auto                News   \n",
       "2                Solaranlagen                News   \n",
       "3                     Energie            Ratgeber   \n",
       "4             Balkonkraftwerk        Kaufberatung   \n",
       "...                       ...                 ...   \n",
       "132840                 E-Auto                Deal   \n",
       "132841                Zubehör                Deal   \n",
       "132842                 E-Auto                Deal   \n",
       "132843                 E-Auto                News   \n",
       "132844                Energie                Deal   \n",
       "\n",
       "                                                                                    title   \n",
       "0        Tariferhöhungen und THG-Prämie: Ladesäulenbetreiber ziehen Kunden über den Tisch  \\\n",
       "1                                            Alfa Romeo: Was bedeuten Schlange und Kreuz?   \n",
       "2            Rennen um die effizienteste Solarzelle: Deutsche holen sich den Titel zurück   \n",
       "3        Antrag stellen oder leer ausgehen: Diese Entlastung ist für Heizöl-Kunden geplan   \n",
       "4                                     Balkonkraftwerk kaufen: Das sind die besten Modelle   \n",
       "...                                                                                   ...   \n",
       "132840                                                               Hyundai IONIQ 6 Deal   \n",
       "132841      Aldi verkauft Rückfahrkamera fürs Auto: Der Selbsteinbau soll ein Klacks sein   \n",
       "132842      E-Autos mit kurzer Lieferzeit: Fiat 500e, Polestar 2, Renault Twingo und mehr   \n",
       "132843                     Urlaubshölle in Italien: Deutsche stranden mit billigem E-Auto   \n",
       "132844     Hausbesitzer testet Heizkörperbooster mit Wärmepumpe: Mit eindeutigem Ergebnis   \n",
       "\n",
       "                  authors  daily_likes  daily_dislikes  word_count   \n",
       "0            Karl Lüdecke          NaN             NaN         NaN  \\\n",
       "1             Karl Müller          NaN             NaN         NaN   \n",
       "2             Aslan Berse          NaN             NaN         NaN   \n",
       "3                    CHIP          NaN             NaN         NaN   \n",
       "4          Eva Goldschald         17.0             1.0      1513.0   \n",
       "...                   ...          ...             ...         ...   \n",
       "132840         Lisa Brack          0.0             0.0       725.0   \n",
       "132841    Vanessa Finkler          0.0             0.0       535.0   \n",
       "132842    Benjamin Dizdar          0.0             0.0      2142.0   \n",
       "132843    Vanessa Finkler          NaN             NaN         NaN   \n",
       "132844  Redaktion EFAHRER          0.0             0.0       859.0   \n",
       "\n",
       "        video_play  page_impressions  external_clicks  external_impressions   \n",
       "0           1261.0            1375.0           1301.0               20323.0  \\\n",
       "1            286.0             298.0            164.0                1493.0   \n",
       "2            156.0             300.0            303.0                4912.0   \n",
       "3             16.0              55.0          14009.0               92422.0   \n",
       "4            174.0             128.0           6494.0              114984.0   \n",
       "...            ...               ...              ...                   ...   \n",
       "132840         1.0               1.0            905.0               12463.0   \n",
       "132841         0.0               1.0             95.0                1048.0   \n",
       "132842         0.0               1.0             10.0                 106.0   \n",
       "132843         0.0               1.0           5820.0               83900.0   \n",
       "132844         0.0               1.0           1481.0               31154.0   \n",
       "\n",
       "        clickouts  \n",
       "0             NaN  \n",
       "1             NaN  \n",
       "2             0.0  \n",
       "3             0.0  \n",
       "4            21.0  \n",
       "...           ...  \n",
       "132840        0.0  \n",
       "132841        0.0  \n",
       "132842        0.0  \n",
       "132843        0.0  \n",
       "132844        0.0  \n",
       "\n",
       "[132845 rows x 18 columns]"
      ]
     },
     "execution_count": 16,
     "metadata": {},
     "output_type": "execute_result"
    }
   ],
   "source": [
    "df = pd.merge(left=df2, right=df1, on=key_columns, how='left') \n",
    "# in principle, even the page_id is redundant in this case, \n",
    "# because each url contains the page id as the suffix\n",
    "\n",
    "df"
   ]
  },
  {
   "cell_type": "code",
   "execution_count": 17,
   "metadata": {},
   "outputs": [
    {
     "data": {
      "text/plain": [
       "(132845, 17)"
      ]
     },
     "execution_count": 17,
     "metadata": {},
     "output_type": "execute_result"
    }
   ],
   "source": [
    "df2.shape"
   ]
  },
  {
   "cell_type": "code",
   "execution_count": 18,
   "metadata": {},
   "outputs": [
    {
     "data": {
      "image/png": "[encoded data removed]",
      "text/plain": [
       "<Figure size 2500x1000 with 2 Axes>"
      ]
     },
     "metadata": {},
     "output_type": "display_data"
    }
   ],
   "source": [
    "mgn.matrix(df);"
   ]
  },
  {
   "cell_type": "markdown",
   "metadata": {},
   "source": [
    "Cleaning up"
   ]
  },
  {
   "cell_type": "code",
   "execution_count": 19,
   "metadata": {},
   "outputs": [],
   "source": [
    "del df1\n",
    "del df2"
   ]
  },
  {
   "cell_type": "markdown",
   "metadata": {},
   "source": [
    "## Imputing"
   ]
  },
  {
   "cell_type": "code",
   "execution_count": 20,
   "metadata": {},
   "outputs": [],
   "source": [
    "df = df.sort_values(['page_id', 'date', 'publish_date', 'url']).reset_index(drop=True)"
   ]
  },
  {
   "cell_type": "code",
   "execution_count": 32,
   "metadata": {},
   "outputs": [
    {
     "data": {
      "text/plain": [
       "(254, 18)"
      ]
     },
     "execution_count": 32,
     "metadata": {},
     "output_type": "execute_result"
    }
   ],
   "source": [
    "article10437 = df[df.page_id == 10437]\n",
    "article10437.shape"
   ]
  },
  {
   "cell_type": "code",
   "execution_count": 30,
   "metadata": {},
   "outputs": [
    {
     "data": {
      "text/plain": [
       "Series([], Name: publish_date, dtype: datetime64[ns])"
      ]
     },
     "execution_count": 30,
     "metadata": {},
     "output_type": "execute_result"
    }
   ],
   "source": [
    "article10437.loc[article10437.date < article10437.publish_date, 'publish_date']# = pd.Timestamp('2018-01-01 00:00:00')"
   ]
  },
  {
   "cell_type": "code",
   "execution_count": 37,
   "metadata": {},
   "outputs": [
    {
     "data": {
      "text/html": [
       "<div>\n",
       "<style scoped>\n",
       "    .dataframe tbody tr th:only-of-type {\n",
       "        vertical-align: middle;\n",
       "    }\n",
       "\n",
       "    .dataframe tbody tr th {\n",
       "        vertical-align: top;\n",
       "    }\n",
       "\n",
       "    .dataframe thead th {\n",
       "        text-align: right;\n",
       "    }\n",
       "</style>\n",
       "<table border=\"1\" class=\"dataframe\">\n",
       "  <thead>\n",
       "    <tr style=\"text-align: right;\">\n",
       "      <th></th>\n",
       "      <th>page_id</th>\n",
       "      <th>date</th>\n",
       "      <th>publish_date</th>\n",
       "      <th>word_count</th>\n",
       "    </tr>\n",
       "  </thead>\n",
       "  <tbody>\n",
       "    <tr>\n",
       "      <th>65</th>\n",
       "      <td>10437</td>\n",
       "      <td>2023-01-01</td>\n",
       "      <td>NaT</td>\n",
       "      <td>NaN</td>\n",
       "    </tr>\n",
       "    <tr>\n",
       "      <th>67</th>\n",
       "      <td>10437</td>\n",
       "      <td>2023-01-02</td>\n",
       "      <td>NaT</td>\n",
       "      <td>NaN</td>\n",
       "    </tr>\n",
       "    <tr>\n",
       "      <th>68</th>\n",
       "      <td>10437</td>\n",
       "      <td>2023-01-03</td>\n",
       "      <td>NaT</td>\n",
       "      <td>NaN</td>\n",
       "    </tr>\n",
       "    <tr>\n",
       "      <th>69</th>\n",
       "      <td>10437</td>\n",
       "      <td>2023-01-04</td>\n",
       "      <td>NaT</td>\n",
       "      <td>NaN</td>\n",
       "    </tr>\n",
       "    <tr>\n",
       "      <th>72</th>\n",
       "      <td>10437</td>\n",
       "      <td>2023-01-05</td>\n",
       "      <td>NaT</td>\n",
       "      <td>NaN</td>\n",
       "    </tr>\n",
       "    <tr>\n",
       "      <th>...</th>\n",
       "      <td>...</td>\n",
       "      <td>...</td>\n",
       "      <td>...</td>\n",
       "      <td>...</td>\n",
       "    </tr>\n",
       "    <tr>\n",
       "      <th>302</th>\n",
       "      <td>10437</td>\n",
       "      <td>2024-02-21</td>\n",
       "      <td>2024-02-19</td>\n",
       "      <td>2314.0</td>\n",
       "    </tr>\n",
       "    <tr>\n",
       "      <th>306</th>\n",
       "      <td>10437</td>\n",
       "      <td>2024-02-22</td>\n",
       "      <td>2024-02-19</td>\n",
       "      <td>2314.0</td>\n",
       "    </tr>\n",
       "    <tr>\n",
       "      <th>309</th>\n",
       "      <td>10437</td>\n",
       "      <td>2024-02-23</td>\n",
       "      <td>2024-02-19</td>\n",
       "      <td>2314.0</td>\n",
       "    </tr>\n",
       "    <tr>\n",
       "      <th>312</th>\n",
       "      <td>10437</td>\n",
       "      <td>2024-02-25</td>\n",
       "      <td>2024-02-19</td>\n",
       "      <td>2314.0</td>\n",
       "    </tr>\n",
       "    <tr>\n",
       "      <th>316</th>\n",
       "      <td>10437</td>\n",
       "      <td>2024-02-26</td>\n",
       "      <td>2024-02-19</td>\n",
       "      <td>2314.0</td>\n",
       "    </tr>\n",
       "  </tbody>\n",
       "</table>\n",
       "<p>98 rows × 4 columns</p>\n",
       "</div>"
      ],
      "text/plain": [
       "     page_id       date publish_date  word_count\n",
       "65     10437 2023-01-01          NaT         NaN\n",
       "67     10437 2023-01-02          NaT         NaN\n",
       "68     10437 2023-01-03          NaT         NaN\n",
       "69     10437 2023-01-04          NaT         NaN\n",
       "72     10437 2023-01-05          NaT         NaN\n",
       "..       ...        ...          ...         ...\n",
       "302    10437 2024-02-21   2024-02-19      2314.0\n",
       "306    10437 2024-02-22   2024-02-19      2314.0\n",
       "309    10437 2024-02-23   2024-02-19      2314.0\n",
       "312    10437 2024-02-25   2024-02-19      2314.0\n",
       "316    10437 2024-02-26   2024-02-19      2314.0\n",
       "\n",
       "[98 rows x 4 columns]"
      ]
     },
     "execution_count": 37,
     "metadata": {},
     "output_type": "execute_result"
    }
   ],
   "source": [
    "versions2_10437 = article10437.groupby(['page_id'], as_index=False, sort=True)[\n",
    "    ['page_id', 'date', 'publish_date', 'word_count']\n",
    "    ].ffill().drop_duplicates(['page_id', 'date', 'publish_date'])\n",
    "versions2_10437"
   ]
  },
  {
   "cell_type": "code",
   "execution_count": 42,
   "metadata": {},
   "outputs": [
    {
     "data": {
      "text/html": [
       "<div>\n",
       "<style scoped>\n",
       "    .dataframe tbody tr th:only-of-type {\n",
       "        vertical-align: middle;\n",
       "    }\n",
       "\n",
       "    .dataframe tbody tr th {\n",
       "        vertical-align: top;\n",
       "    }\n",
       "\n",
       "    .dataframe thead th {\n",
       "        text-align: right;\n",
       "    }\n",
       "</style>\n",
       "<table border=\"1\" class=\"dataframe\">\n",
       "  <thead>\n",
       "    <tr style=\"text-align: right;\">\n",
       "      <th></th>\n",
       "      <th>page_id</th>\n",
       "      <th>date</th>\n",
       "      <th>publish_date_equal_to_date</th>\n",
       "      <th>url</th>\n",
       "      <th>page_name</th>\n",
       "      <th>classification_product</th>\n",
       "      <th>classification_type</th>\n",
       "      <th>title</th>\n",
       "      <th>authors</th>\n",
       "      <th>daily_likes</th>\n",
       "      <th>daily_dislikes</th>\n",
       "      <th>video_play</th>\n",
       "      <th>page_impressions</th>\n",
       "      <th>external_clicks</th>\n",
       "      <th>external_impressions</th>\n",
       "      <th>clickouts</th>\n",
       "      <th>publish_date</th>\n",
       "      <th>word_count</th>\n",
       "    </tr>\n",
       "  </thead>\n",
       "  <tbody>\n",
       "    <tr>\n",
       "      <th>0</th>\n",
       "      <td>10437</td>\n",
       "      <td>2023-01-01</td>\n",
       "      <td>N</td>\n",
       "      <td>https://efahrer.chip.de/e-wissen/die-guenstigsten-e-autos-2022-smart-fiat-und-co-ab-13000-euro_10437</td>\n",
       "      <td>efa-10437 | E-Autos ab 10.000 Euro: Diese günstigen Elektroautos gibt's schon heute</td>\n",
       "      <td>E-Auto</td>\n",
       "      <td>Kaufberatung</td>\n",
       "      <td>E-Autos ab 10.000 Euro: Diese günstigen Elektroautos gibt's schon heute</td>\n",
       "      <td>Moritz Diethelm &amp; Dominik Zarychta</td>\n",
       "      <td>NaN</td>\n",
       "      <td>NaN</td>\n",
       "      <td>0.0</td>\n",
       "      <td>3.0</td>\n",
       "      <td>116.0</td>\n",
       "      <td>7963.0</td>\n",
       "      <td>0.0</td>\n",
       "      <td>NaT</td>\n",
       "      <td>NaN</td>\n",
       "    </tr>\n",
       "    <tr>\n",
       "      <th>1</th>\n",
       "      <td>10437</td>\n",
       "      <td>2023-01-01</td>\n",
       "      <td>N</td>\n",
       "      <td>https://efahrer.chip.de/news/trotz-schmelzender-foerderung-das-sind-auch-2023-die-guenstigsten-e-autos_10437</td>\n",
       "      <td>efa-10437 | E-Autos ab 10.000 Euro: Diese günstigen Elektroautos gibt's schon heute</td>\n",
       "      <td>E-Auto</td>\n",
       "      <td>Kaufberatung</td>\n",
       "      <td>E-Autos ab 10.000 Euro: Diese günstigen Elektroautos gibt's schon heute</td>\n",
       "      <td>Moritz Diethelm &amp; Dominik Zarychta</td>\n",
       "      <td>NaN</td>\n",
       "      <td>NaN</td>\n",
       "      <td>336.0</td>\n",
       "      <td>5557.0</td>\n",
       "      <td>116.0</td>\n",
       "      <td>7963.0</td>\n",
       "      <td>158.0</td>\n",
       "      <td>NaT</td>\n",
       "      <td>NaN</td>\n",
       "    </tr>\n",
       "    <tr>\n",
       "      <th>2</th>\n",
       "      <td>10437</td>\n",
       "      <td>2023-01-02</td>\n",
       "      <td>N</td>\n",
       "      <td>https://efahrer.chip.de/news/trotz-schmelzender-foerderung-das-sind-auch-2023-die-guenstigsten-e-autos_10437</td>\n",
       "      <td>efa-10437 | E-Autos ab 10.000 Euro: Diese günstigen Elektroautos gibt's schon heute</td>\n",
       "      <td>E-Auto</td>\n",
       "      <td>Kaufberatung</td>\n",
       "      <td>E-Autos ab 10.000 Euro: Diese günstigen Elektroautos gibt's schon heute</td>\n",
       "      <td>Moritz Diethelm &amp; Dominik Zarychta</td>\n",
       "      <td>NaN</td>\n",
       "      <td>NaN</td>\n",
       "      <td>176.0</td>\n",
       "      <td>1939.0</td>\n",
       "      <td>30.0</td>\n",
       "      <td>1293.0</td>\n",
       "      <td>58.0</td>\n",
       "      <td>NaT</td>\n",
       "      <td>NaN</td>\n",
       "    </tr>\n",
       "    <tr>\n",
       "      <th>3</th>\n",
       "      <td>10437</td>\n",
       "      <td>2023-01-03</td>\n",
       "      <td>N</td>\n",
       "      <td>https://efahrer.chip.de/news/trotz-schmelzender-foerderung-das-sind-auch-2023-die-guenstigsten-e-autos_10437</td>\n",
       "      <td>efa-10437 | E-Autos ab 10.000 Euro: Diese günstigen Elektroautos gibt's schon heute</td>\n",
       "      <td>E-Auto</td>\n",
       "      <td>Kaufberatung</td>\n",
       "      <td>E-Autos ab 10.000 Euro: Diese günstigen Elektroautos gibt's schon heute</td>\n",
       "      <td>Moritz Diethelm &amp; Dominik Zarychta</td>\n",
       "      <td>NaN</td>\n",
       "      <td>NaN</td>\n",
       "      <td>115.0</td>\n",
       "      <td>733.0</td>\n",
       "      <td>10.0</td>\n",
       "      <td>304.0</td>\n",
       "      <td>27.0</td>\n",
       "      <td>NaT</td>\n",
       "      <td>NaN</td>\n",
       "    </tr>\n",
       "    <tr>\n",
       "      <th>4</th>\n",
       "      <td>10437</td>\n",
       "      <td>2023-01-04</td>\n",
       "      <td>N</td>\n",
       "      <td>https://efahrer.chip.de/e-wissen/die-guenstigsten-e-autos-2022-smart-fiat-und-co-ab-13000-euro_10437</td>\n",
       "      <td>efa-10437 | E-Autos ab 10.000 Euro: Diese günstigen Elektroautos gibt's schon heute</td>\n",
       "      <td>E-Auto</td>\n",
       "      <td>Kaufberatung</td>\n",
       "      <td>E-Autos ab 10.000 Euro: Diese günstigen Elektroautos gibt's schon heute</td>\n",
       "      <td>Moritz Diethelm &amp; Dominik Zarychta</td>\n",
       "      <td>NaN</td>\n",
       "      <td>NaN</td>\n",
       "      <td>0.0</td>\n",
       "      <td>2.0</td>\n",
       "      <td>8.0</td>\n",
       "      <td>161.0</td>\n",
       "      <td>0.0</td>\n",
       "      <td>NaT</td>\n",
       "      <td>NaN</td>\n",
       "    </tr>\n",
       "    <tr>\n",
       "      <th>...</th>\n",
       "      <td>...</td>\n",
       "      <td>...</td>\n",
       "      <td>...</td>\n",
       "      <td>...</td>\n",
       "      <td>...</td>\n",
       "      <td>...</td>\n",
       "      <td>...</td>\n",
       "      <td>...</td>\n",
       "      <td>...</td>\n",
       "      <td>...</td>\n",
       "      <td>...</td>\n",
       "      <td>...</td>\n",
       "      <td>...</td>\n",
       "      <td>...</td>\n",
       "      <td>...</td>\n",
       "      <td>...</td>\n",
       "      <td>...</td>\n",
       "      <td>...</td>\n",
       "    </tr>\n",
       "    <tr>\n",
       "      <th>249</th>\n",
       "      <td>10437</td>\n",
       "      <td>2024-02-25</td>\n",
       "      <td>N</td>\n",
       "      <td>https://efahrer.chip.de/news/hersteller-druecken-die-preise-nach-bafa-aus-ihr-e-neuwagen-schon-ab-13000-euro_10437</td>\n",
       "      <td>efa-10437 | E-Autos ab 10.000 Euro: Diese günstigen Elektroautos gibt's schon heute</td>\n",
       "      <td>E-Auto</td>\n",
       "      <td>Kaufberatung</td>\n",
       "      <td>E-Autos ab 10.000 Euro: Diese günstigen Elektroautos gibt's schon heute</td>\n",
       "      <td>Dominik Zarychta &amp; Benjamin Dizdar</td>\n",
       "      <td>3.0</td>\n",
       "      <td>1.0</td>\n",
       "      <td>0.0</td>\n",
       "      <td>2.0</td>\n",
       "      <td>133.0</td>\n",
       "      <td>2241.0</td>\n",
       "      <td>0.0</td>\n",
       "      <td>2024-02-19</td>\n",
       "      <td>2314.0</td>\n",
       "    </tr>\n",
       "    <tr>\n",
       "      <th>250</th>\n",
       "      <td>10437</td>\n",
       "      <td>2024-02-25</td>\n",
       "      <td>N</td>\n",
       "      <td>https://efahrer.chip.de/news/preisschlacht-nach-dem-ende-der-praemie-nun-gibt-es-e-neuwagen-ab-13000-euro_10437</td>\n",
       "      <td>efa-10437 | E-Autos ab 10.000 Euro: Diese günstigen Elektroautos gibt's schon heute</td>\n",
       "      <td>E-Auto</td>\n",
       "      <td>Kaufberatung</td>\n",
       "      <td>E-Autos ab 10.000 Euro: Diese günstigen Elektroautos gibt's schon heute</td>\n",
       "      <td>Dominik Zarychta &amp; Benjamin Dizdar</td>\n",
       "      <td>3.0</td>\n",
       "      <td>1.0</td>\n",
       "      <td>0.0</td>\n",
       "      <td>4.0</td>\n",
       "      <td>133.0</td>\n",
       "      <td>2241.0</td>\n",
       "      <td>0.0</td>\n",
       "      <td>2024-02-19</td>\n",
       "      <td>2314.0</td>\n",
       "    </tr>\n",
       "    <tr>\n",
       "      <th>251</th>\n",
       "      <td>10437</td>\n",
       "      <td>2024-02-26</td>\n",
       "      <td>N</td>\n",
       "      <td>https://efahrer.chip.de/news/autobauer-liefern-sich-rabattschlacht-guenstige-e-autos-gibt-es-ab-13000-euro_10437</td>\n",
       "      <td>efa-10437 | E-Autos ab 10.000 Euro: Diese günstigen Elektroautos gibt's schon heute</td>\n",
       "      <td>E-Auto</td>\n",
       "      <td>Kaufberatung</td>\n",
       "      <td>E-Autos ab 10.000 Euro: Diese günstigen Elektroautos gibt's schon heute</td>\n",
       "      <td>Dominik Zarychta &amp; Benjamin Dizdar</td>\n",
       "      <td>5.0</td>\n",
       "      <td>2.0</td>\n",
       "      <td>116.0</td>\n",
       "      <td>2163.0</td>\n",
       "      <td>94.0</td>\n",
       "      <td>1392.0</td>\n",
       "      <td>158.0</td>\n",
       "      <td>2024-02-19</td>\n",
       "      <td>2314.0</td>\n",
       "    </tr>\n",
       "    <tr>\n",
       "      <th>252</th>\n",
       "      <td>10437</td>\n",
       "      <td>2024-02-26</td>\n",
       "      <td>N</td>\n",
       "      <td>https://efahrer.chip.de/news/guenstiger-als-vor-dem-ende-der-foerderung-e-autos-ab-rund-13000-euro_10437</td>\n",
       "      <td>efa-10437 | E-Autos ab 10.000 Euro: Diese günstigen Elektroautos gibt's schon heute</td>\n",
       "      <td>E-Auto</td>\n",
       "      <td>Kaufberatung</td>\n",
       "      <td>E-Autos ab 10.000 Euro: Diese günstigen Elektroautos gibt's schon heute</td>\n",
       "      <td>Dominik Zarychta &amp; Benjamin Dizdar</td>\n",
       "      <td>5.0</td>\n",
       "      <td>2.0</td>\n",
       "      <td>0.0</td>\n",
       "      <td>1.0</td>\n",
       "      <td>94.0</td>\n",
       "      <td>1392.0</td>\n",
       "      <td>0.0</td>\n",
       "      <td>2024-02-19</td>\n",
       "      <td>2314.0</td>\n",
       "    </tr>\n",
       "    <tr>\n",
       "      <th>253</th>\n",
       "      <td>10437</td>\n",
       "      <td>2024-02-26</td>\n",
       "      <td>N</td>\n",
       "      <td>https://efahrer.chip.de/news/preisschlacht-nach-dem-ende-der-praemie-nun-gibt-es-e-neuwagen-ab-13000-euro_10437</td>\n",
       "      <td>efa-10437 | E-Autos ab 10.000 Euro: Diese günstigen Elektroautos gibt's schon heute</td>\n",
       "      <td>E-Auto</td>\n",
       "      <td>Kaufberatung</td>\n",
       "      <td>E-Autos ab 10.000 Euro: Diese günstigen Elektroautos gibt's schon heute</td>\n",
       "      <td>Dominik Zarychta &amp; Benjamin Dizdar</td>\n",
       "      <td>5.0</td>\n",
       "      <td>2.0</td>\n",
       "      <td>0.0</td>\n",
       "      <td>5.0</td>\n",
       "      <td>94.0</td>\n",
       "      <td>1392.0</td>\n",
       "      <td>0.0</td>\n",
       "      <td>2024-02-19</td>\n",
       "      <td>2314.0</td>\n",
       "    </tr>\n",
       "  </tbody>\n",
       "</table>\n",
       "<p>254 rows × 18 columns</p>\n",
       "</div>"
      ],
      "text/plain": [
       "     page_id       date publish_date_equal_to_date   \n",
       "0      10437 2023-01-01                          N  \\\n",
       "1      10437 2023-01-01                          N   \n",
       "2      10437 2023-01-02                          N   \n",
       "3      10437 2023-01-03                          N   \n",
       "4      10437 2023-01-04                          N   \n",
       "..       ...        ...                        ...   \n",
       "249    10437 2024-02-25                          N   \n",
       "250    10437 2024-02-25                          N   \n",
       "251    10437 2024-02-26                          N   \n",
       "252    10437 2024-02-26                          N   \n",
       "253    10437 2024-02-26                          N   \n",
       "\n",
       "                                                                                                                    url   \n",
       "0                  https://efahrer.chip.de/e-wissen/die-guenstigsten-e-autos-2022-smart-fiat-und-co-ab-13000-euro_10437  \\\n",
       "1          https://efahrer.chip.de/news/trotz-schmelzender-foerderung-das-sind-auch-2023-die-guenstigsten-e-autos_10437   \n",
       "2          https://efahrer.chip.de/news/trotz-schmelzender-foerderung-das-sind-auch-2023-die-guenstigsten-e-autos_10437   \n",
       "3          https://efahrer.chip.de/news/trotz-schmelzender-foerderung-das-sind-auch-2023-die-guenstigsten-e-autos_10437   \n",
       "4                  https://efahrer.chip.de/e-wissen/die-guenstigsten-e-autos-2022-smart-fiat-und-co-ab-13000-euro_10437   \n",
       "..                                                                                                                  ...   \n",
       "249  https://efahrer.chip.de/news/hersteller-druecken-die-preise-nach-bafa-aus-ihr-e-neuwagen-schon-ab-13000-euro_10437   \n",
       "250     https://efahrer.chip.de/news/preisschlacht-nach-dem-ende-der-praemie-nun-gibt-es-e-neuwagen-ab-13000-euro_10437   \n",
       "251    https://efahrer.chip.de/news/autobauer-liefern-sich-rabattschlacht-guenstige-e-autos-gibt-es-ab-13000-euro_10437   \n",
       "252            https://efahrer.chip.de/news/guenstiger-als-vor-dem-ende-der-foerderung-e-autos-ab-rund-13000-euro_10437   \n",
       "253     https://efahrer.chip.de/news/preisschlacht-nach-dem-ende-der-praemie-nun-gibt-es-e-neuwagen-ab-13000-euro_10437   \n",
       "\n",
       "                                                                               page_name   \n",
       "0    efa-10437 | E-Autos ab 10.000 Euro: Diese günstigen Elektroautos gibt's schon heute  \\\n",
       "1    efa-10437 | E-Autos ab 10.000 Euro: Diese günstigen Elektroautos gibt's schon heute   \n",
       "2    efa-10437 | E-Autos ab 10.000 Euro: Diese günstigen Elektroautos gibt's schon heute   \n",
       "3    efa-10437 | E-Autos ab 10.000 Euro: Diese günstigen Elektroautos gibt's schon heute   \n",
       "4    efa-10437 | E-Autos ab 10.000 Euro: Diese günstigen Elektroautos gibt's schon heute   \n",
       "..                                                                                   ...   \n",
       "249  efa-10437 | E-Autos ab 10.000 Euro: Diese günstigen Elektroautos gibt's schon heute   \n",
       "250  efa-10437 | E-Autos ab 10.000 Euro: Diese günstigen Elektroautos gibt's schon heute   \n",
       "251  efa-10437 | E-Autos ab 10.000 Euro: Diese günstigen Elektroautos gibt's schon heute   \n",
       "252  efa-10437 | E-Autos ab 10.000 Euro: Diese günstigen Elektroautos gibt's schon heute   \n",
       "253  efa-10437 | E-Autos ab 10.000 Euro: Diese günstigen Elektroautos gibt's schon heute   \n",
       "\n",
       "    classification_product classification_type   \n",
       "0                   E-Auto        Kaufberatung  \\\n",
       "1                   E-Auto        Kaufberatung   \n",
       "2                   E-Auto        Kaufberatung   \n",
       "3                   E-Auto        Kaufberatung   \n",
       "4                   E-Auto        Kaufberatung   \n",
       "..                     ...                 ...   \n",
       "249                 E-Auto        Kaufberatung   \n",
       "250                 E-Auto        Kaufberatung   \n",
       "251                 E-Auto        Kaufberatung   \n",
       "252                 E-Auto        Kaufberatung   \n",
       "253                 E-Auto        Kaufberatung   \n",
       "\n",
       "                                                                        title   \n",
       "0     E-Autos ab 10.000 Euro: Diese günstigen Elektroautos gibt's schon heute  \\\n",
       "1     E-Autos ab 10.000 Euro: Diese günstigen Elektroautos gibt's schon heute   \n",
       "2     E-Autos ab 10.000 Euro: Diese günstigen Elektroautos gibt's schon heute   \n",
       "3     E-Autos ab 10.000 Euro: Diese günstigen Elektroautos gibt's schon heute   \n",
       "4     E-Autos ab 10.000 Euro: Diese günstigen Elektroautos gibt's schon heute   \n",
       "..                                                                        ...   \n",
       "249   E-Autos ab 10.000 Euro: Diese günstigen Elektroautos gibt's schon heute   \n",
       "250   E-Autos ab 10.000 Euro: Diese günstigen Elektroautos gibt's schon heute   \n",
       "251   E-Autos ab 10.000 Euro: Diese günstigen Elektroautos gibt's schon heute   \n",
       "252   E-Autos ab 10.000 Euro: Diese günstigen Elektroautos gibt's schon heute   \n",
       "253   E-Autos ab 10.000 Euro: Diese günstigen Elektroautos gibt's schon heute   \n",
       "\n",
       "                                authors  daily_likes  daily_dislikes   \n",
       "0    Moritz Diethelm & Dominik Zarychta          NaN             NaN  \\\n",
       "1    Moritz Diethelm & Dominik Zarychta          NaN             NaN   \n",
       "2    Moritz Diethelm & Dominik Zarychta          NaN             NaN   \n",
       "3    Moritz Diethelm & Dominik Zarychta          NaN             NaN   \n",
       "4    Moritz Diethelm & Dominik Zarychta          NaN             NaN   \n",
       "..                                  ...          ...             ...   \n",
       "249  Dominik Zarychta & Benjamin Dizdar          3.0             1.0   \n",
       "250  Dominik Zarychta & Benjamin Dizdar          3.0             1.0   \n",
       "251  Dominik Zarychta & Benjamin Dizdar          5.0             2.0   \n",
       "252  Dominik Zarychta & Benjamin Dizdar          5.0             2.0   \n",
       "253  Dominik Zarychta & Benjamin Dizdar          5.0             2.0   \n",
       "\n",
       "     video_play  page_impressions  external_clicks  external_impressions   \n",
       "0           0.0               3.0            116.0                7963.0  \\\n",
       "1         336.0            5557.0            116.0                7963.0   \n",
       "2         176.0            1939.0             30.0                1293.0   \n",
       "3         115.0             733.0             10.0                 304.0   \n",
       "4           0.0               2.0              8.0                 161.0   \n",
       "..          ...               ...              ...                   ...   \n",
       "249         0.0               2.0            133.0                2241.0   \n",
       "250         0.0               4.0            133.0                2241.0   \n",
       "251       116.0            2163.0             94.0                1392.0   \n",
       "252         0.0               1.0             94.0                1392.0   \n",
       "253         0.0               5.0             94.0                1392.0   \n",
       "\n",
       "     clickouts publish_date  word_count  \n",
       "0          0.0          NaT         NaN  \n",
       "1        158.0          NaT         NaN  \n",
       "2         58.0          NaT         NaN  \n",
       "3         27.0          NaT         NaN  \n",
       "4          0.0          NaT         NaN  \n",
       "..         ...          ...         ...  \n",
       "249        0.0   2024-02-19      2314.0  \n",
       "250        0.0   2024-02-19      2314.0  \n",
       "251      158.0   2024-02-19      2314.0  \n",
       "252        0.0   2024-02-19      2314.0  \n",
       "253        0.0   2024-02-19      2314.0  \n",
       "\n",
       "[254 rows x 18 columns]"
      ]
     },
     "execution_count": 42,
     "metadata": {},
     "output_type": "execute_result"
    }
   ],
   "source": [
    "temp = pd.merge(article10437.drop(['publish_date', 'word_count'], axis=1).drop_duplicates(['page_id', 'date', 'url', 'authors']), \n",
    "                versions2_10437,\n",
    "         on=['page_id', 'date'], how='inner')\n",
    "temp"
   ]
  },
  {
   "cell_type": "markdown",
   "metadata": {},
   "source": [
    "#### Article versions"
   ]
  },
  {
   "cell_type": "code",
   "execution_count": null,
   "metadata": {},
   "outputs": [],
   "source": [
    "df[(df['publish_date_equal_to_date'] == 'Y') & (df['publish_date'].isna())]"
   ]
  },
  {
   "cell_type": "markdown",
   "metadata": {},
   "source": [
    "Attention: some articles were scheduled for an update (or first publication), therefore have already existing entries and stats (likes, dislikes, etc.)"
   ]
  },
  {
   "cell_type": "code",
   "execution_count": null,
   "metadata": {},
   "outputs": [],
   "source": [
    "scheduled_articles = df.query('date < publish_date')#[df.columns.drop(['url', 'title', 'page_name'])]"
   ]
  },
  {
   "cell_type": "code",
   "execution_count": null,
   "metadata": {},
   "outputs": [],
   "source": [
    "scheduled_articles_ids = scheduled_articles.page_id.unique()"
   ]
  },
  {
   "cell_type": "code",
   "execution_count": null,
   "metadata": {},
   "outputs": [],
   "source": [
    "df.columns"
   ]
  },
  {
   "cell_type": "code",
   "execution_count": null,
   "metadata": {},
   "outputs": [],
   "source": [
    "# Grouping, so we are not filling in the values from other articles!\n",
    "versions = df.groupby(['page_id'], as_index=False, sort=True)[\n",
    "    ['page_id', 'date', 'publish_date', 'word_count']\n",
    "    ].ffill()\n",
    "#versions.rename({'index': 'page_id'}, axis=1, inplace=True)\n",
    "versions"
   ]
  },
  {
   "cell_type": "code",
   "execution_count": null,
   "metadata": {},
   "outputs": [],
   "source": [
    "versions.query('date < publish_date').shape[0] == scheduled_articles.shape[0]"
   ]
  },
  {
   "cell_type": "code",
   "execution_count": null,
   "metadata": {},
   "outputs": [],
   "source": [
    "wtf_idx = versions.query('date < publish_date').index.difference(scheduled_articles.index)\n",
    "wtf_idx"
   ]
  },
  {
   "cell_type": "markdown",
   "metadata": {},
   "source": [
    "<font color=red> We'll assume that all articles which don't have a publishing date but were scheduled for an update are actually REALLY OLD and were published at the around inception of EFAHRER (01-01-2018) </font>"
   ]
  },
  {
   "cell_type": "code",
   "execution_count": null,
   "metadata": {},
   "outputs": [],
   "source": [
    "df.loc[df.date < df.publish_date, 'publish_date'] = pd.Timestamp('2018-01-01 00:00:00')"
   ]
  },
  {
   "cell_type": "markdown",
   "metadata": {},
   "source": [
    "For some pages we simply don't know the date of first publication! We need to impute it for modelling.\n",
    "Which articles are those?"
   ]
  },
  {
   "cell_type": "code",
   "execution_count": null,
   "metadata": {},
   "outputs": [],
   "source": [
    "no_publ_date = versions[versions.publish_date.isna()].page_id.unique()\n",
    "no_publ_date"
   ]
  },
  {
   "cell_type": "code",
   "execution_count": null,
   "metadata": {},
   "outputs": [],
   "source": [
    "no_publ_date.shape "
   ]
  },
  {
   "cell_type": "code",
   "execution_count": null,
   "metadata": {},
   "outputs": [],
   "source": [
    "len(no_publ_date) / len(df.page_id.unique())"
   ]
  },
  {
   "cell_type": "markdown",
   "metadata": {},
   "source": [
    "So those entries comprise almost 34 % of all articles :("
   ]
  },
  {
   "cell_type": "markdown",
   "metadata": {},
   "source": [
    "**For those we apply the same imputing**"
   ]
  },
  {
   "cell_type": "code",
   "execution_count": null,
   "metadata": {},
   "outputs": [],
   "source": [
    "df.loc[df.page_id.isin(no_publ_date), 'publish_date'] = pd.Timestamp('2018-01-01 00:00:00')"
   ]
  },
  {
   "cell_type": "markdown",
   "metadata": {},
   "source": [
    "<font color=red> Assuming that when the word counts do not change unless ptherwise specified </font>"
   ]
  },
  {
   "cell_type": "code",
   "execution_count": null,
   "metadata": {},
   "outputs": [],
   "source": [
    "versions2 = df.groupby(['page_id'], as_index=False, sort=True)[\n",
    "    ['page_id', 'date', 'publish_date', 'word_count']\n",
    "    ].ffill().drop_duplicates()\n",
    "\n",
    "versions2"
   ]
  },
  {
   "cell_type": "code",
   "execution_count": null,
   "metadata": {},
   "outputs": [],
   "source": [
    "versions[(versions.date < versions.publish_date)]"
   ]
  },
  {
   "cell_type": "markdown",
   "metadata": {},
   "source": [
    "Merging the imputed columns back in:"
   ]
  },
  {
   "cell_type": "code",
   "execution_count": null,
   "metadata": {},
   "outputs": [],
   "source": [
    "versions2.columns"
   ]
  },
  {
   "cell_type": "code",
   "execution_count": null,
   "metadata": {},
   "outputs": [],
   "source": [
    "df.columns.drop('publish_date').drop('word_count')"
   ]
  },
  {
   "cell_type": "code",
   "execution_count": null,
   "metadata": {},
   "outputs": [],
   "source": [
    "df_imputed = pd.merge(df[df.columns.drop('publish_date').drop('word_count')], # drop the non-imputed columns\n",
    "                      versions2,\n",
    "                      on=['page_id', 'date'], how='left')"
   ]
  },
  {
   "cell_type": "code",
   "execution_count": null,
   "metadata": {},
   "outputs": [],
   "source": [
    "mgn.matrix(df_imputed)"
   ]
  },
  {
   "cell_type": "markdown",
   "metadata": {},
   "source": [
    "#### Daily reactions"
   ]
  },
  {
   "cell_type": "code",
   "execution_count": null,
   "metadata": {},
   "outputs": [],
   "source": [
    "df['daily_likes']"
   ]
  },
  {
   "cell_type": "markdown",
   "metadata": {},
   "source": [
    "### Merging in the scraped data\n",
    "\n",
    "Thanks Clara"
   ]
  },
  {
   "cell_type": "code",
   "execution_count": null,
   "metadata": {},
   "outputs": [],
   "source": [
    "df_scraped = pd.read_csv('../data/scraping_no_duplicates.csv')\n",
    "df_scraped.columns = [col.lower() for col in df_scraped.columns]\n",
    "\n",
    "df_scraped.rename({\n",
    "           #'impressions': 'page_impressions',\n",
    "           'words': 'words_scraped',\n",
    "           'page_efahrer_id': 'page_id',\n",
    "           'page_canonical_url': 'url',\n",
    "           'author': 'author_scraped',\n",
    "           'current_title': 'h1'\n",
    "            }, axis=1, inplace=True)\n",
    "\n",
    "col_to_merge = ['page_id', 'url']\n",
    "df_full = pd.merge(left=df, right=df_scraped, on=col_to_merge, how='left')"
   ]
  },
  {
   "cell_type": "code",
   "execution_count": null,
   "metadata": {},
   "outputs": [],
   "source": [
    "df_full = df_full.drop('publish_date_equal_to_date', axis=1)"
   ]
  },
  {
   "cell_type": "code",
   "execution_count": null,
   "metadata": {},
   "outputs": [],
   "source": [
    "mgn.matrix(df_full);"
   ]
  },
  {
   "cell_type": "code",
   "execution_count": null,
   "metadata": {},
   "outputs": [],
   "source": [
    "df_full = df_full.sort_values(['page_id', 'date', 'publish_date'])"
   ]
  },
  {
   "cell_type": "markdown",
   "metadata": {},
   "source": [
    "### Imputing (again)"
   ]
  },
  {
   "cell_type": "markdown",
   "metadata": {},
   "source": [
    "<font color=red> Imputing with forward-fill </font>\n",
    "<font color=red> Impute word counts with 0 </font> \n",
    "\n",
    "-> In the future: take the value of the `word count (scraped)` or the mean value for the given category! "
   ]
  },
  {
   "cell_type": "code",
   "execution_count": null,
   "metadata": {},
   "outputs": [],
   "source": [
    "df_full['word_count'] = df_full.groupby(['page_id', 'date'])['word_count'].ffill()\n",
    "df_full['word_count'] = df_full['word_count'].fillna(0)\n",
    "\n",
    "df_full['publish_date'] = df_full.groupby(['page_id', 'date'])['publish_date'].ffill()\n",
    "df_full['publish_date'] = df_full.groupby(['page_id'])['publish_date'].ffill()"
   ]
  },
  {
   "cell_type": "markdown",
   "metadata": {},
   "source": [
    "---"
   ]
  },
  {
   "cell_type": "markdown",
   "metadata": {},
   "source": [
    "# Aggregating \n",
    "\n",
    "For using in subprojects"
   ]
  },
  {
   "cell_type": "code",
   "execution_count": null,
   "metadata": {},
   "outputs": [],
   "source": [
    "page_unique_features = ['page_id', 'publish_date', 'word_count', 'authors']"
   ]
  },
  {
   "cell_type": "code",
   "execution_count": null,
   "metadata": {},
   "outputs": [],
   "source": [
    "df_full.columns"
   ]
  },
  {
   "cell_type": "code",
   "execution_count": null,
   "metadata": {},
   "outputs": [],
   "source": [
    "(df_full[page_unique_features + ['date']].drop_duplicates().value_counts() > 1).sum()"
   ]
  },
  {
   "cell_type": "markdown",
   "metadata": {},
   "source": [
    "this means they are really unique"
   ]
  },
  {
   "cell_type": "markdown",
   "metadata": {},
   "source": [
    "#### Versions"
   ]
  },
  {
   "cell_type": "code",
   "execution_count": null,
   "metadata": {},
   "outputs": [],
   "source": [
    "#df_versions['version_n'] = \n",
    "temp = df_full[['page_id', 'word_count', 'publish_date', 'authors']].drop_duplicates()\n",
    "temp = temp.fillna({'word_count': 0, 'publish_date': pd.Timestamp('2018-01-01 00:00')})\n",
    "temp = temp.drop_duplicates()\n",
    "temp = temp.sort_values('publish_date')"
   ]
  },
  {
   "cell_type": "code",
   "execution_count": null,
   "metadata": {},
   "outputs": [],
   "source": [
    "wc_versions = temp.groupby('page_id')['word_count'].transform(lambda x: pd.factorize(x)[0])\n",
    "publish_versions = temp.groupby('page_id')['publish_date'].transform(lambda x: pd.factorize(x)[0])\n",
    "authors_versions = temp.groupby('page_id')['authors'].transform(lambda x: pd.factorize(x)[0])"
   ]
  },
  {
   "cell_type": "code",
   "execution_count": null,
   "metadata": {},
   "outputs": [],
   "source": [
    "version_count = 1000*wc_versions + 100*publish_versions + 1*authors_versions\n",
    "temp['ver_id_wc'] = wc_versions\n",
    "temp['ver_id_pub'] = publish_versions\n",
    "temp['ver_id_auth'] = authors_versions\n",
    "temp['version_id_raw'] = version_count\n",
    "#version_count = pd.factorize(version_count)[0]"
   ]
  },
  {
   "cell_type": "code",
   "execution_count": null,
   "metadata": {},
   "outputs": [],
   "source": [
    "temp['version_id'] = temp.groupby('page_id')['version_id_raw'].transform(lambda x: pd.factorize(x)[0])"
   ]
  },
  {
   "cell_type": "code",
   "execution_count": null,
   "metadata": {},
   "outputs": [],
   "source": [
    "df_full_versions = pd.merge(df_full, temp.drop(['ver_id_wc', 'ver_id_pub', 'ver_id_auth', 'version_id_raw'], axis=1),\n",
    "         on=['page_id', 'word_count', 'publish_date', 'authors'],\n",
    "         how='left')"
   ]
  },
  {
   "cell_type": "code",
   "execution_count": null,
   "metadata": {},
   "outputs": [],
   "source": [
    "# df_full_versions['word_count'] = df_full_versions.groupby('page_id')['word_count'].fillna(0)"
   ]
  },
  {
   "cell_type": "markdown",
   "metadata": {},
   "source": [
    "### User-side"
   ]
  },
  {
   "cell_type": "markdown",
   "metadata": {},
   "source": [
    "User side features: those which the reader sees"
   ]
  },
  {
   "cell_type": "code",
   "execution_count": null,
   "metadata": {},
   "outputs": [],
   "source": [
    "user_side_features = ['page_id', 'date', 'publish_date', 'word_count', 'words_scraped', \n",
    "                    'page_title', 'page_name', 'title', 'h1', 'authors',  \n",
    "                    'classification_product', 'classification_type']"
   ]
  },
  {
   "cell_type": "code",
   "execution_count": null,
   "metadata": {},
   "outputs": [],
   "source": []
  },
  {
   "cell_type": "markdown",
   "metadata": {},
   "source": [
    "---"
   ]
  },
  {
   "cell_type": "markdown",
   "metadata": {},
   "source": [
    "## Feature engineering"
   ]
  },
  {
   "cell_type": "markdown",
   "metadata": {},
   "source": [
    "### Article (content) versions\n",
    "\n",
    "We want to label each version.\n",
    "* Version changes when there is a new `publication date`\n",
    "* Version changes when there is a new `word count`\n",
    "* Version does NOT change with a change in `URL`\n",
    "* Version does NOT change with a change in the `date` column"
   ]
  },
  {
   "cell_type": "code",
   "execution_count": null,
   "metadata": {},
   "outputs": [],
   "source": [
    "# Only the necessary columns\n",
    "# we still need the 'date' column for imputation\n",
    "df_cnt = df[['page_efahrer_id', 'date', 'published_at', 'word_count']]\n",
    "df_cnt = df_cnt.sort_values(['page_efahrer_id', 'date', 'published_at'])\n",
    "df_cnt"
   ]
  },
  {
   "cell_type": "code",
   "execution_count": null,
   "metadata": {},
   "outputs": [],
   "source": [
    "mgn.matrix(df_cnt);"
   ]
  },
  {
   "cell_type": "markdown",
   "metadata": {},
   "source": [
    "There are some columns where the publication date changed but the `word count` was not updated!"
   ]
  },
  {
   "cell_type": "code",
   "execution_count": null,
   "metadata": {},
   "outputs": [],
   "source": [
    "wcna_idx = df_cnt[df_cnt.word_count.isna() & df_cnt.published_at.notna()].index\n",
    "wcna_idx"
   ]
  },
  {
   "cell_type": "markdown",
   "metadata": {},
   "source": [
    "NOT the other way around:"
   ]
  },
  {
   "cell_type": "code",
   "execution_count": null,
   "metadata": {},
   "outputs": [],
   "source": [
    "df_cnt[df_cnt.word_count.notna() & df_cnt.published_at.isna()].index"
   ]
  },
  {
   "cell_type": "markdown",
   "metadata": {},
   "source": [
    "The best assumption that it did not change (significantly??), so still forward-fill it."
   ]
  },
  {
   "cell_type": "code",
   "execution_count": null,
   "metadata": {},
   "outputs": [],
   "source": [
    "df_cnt = df_cnt.ffill()"
   ]
  },
  {
   "cell_type": "code",
   "execution_count": null,
   "metadata": {},
   "outputs": [],
   "source": [
    "sus = df_cnt.loc[wcna_idx]"
   ]
  },
  {
   "cell_type": "markdown",
   "metadata": {},
   "source": [
    "#### Versions"
   ]
  },
  {
   "cell_type": "code",
   "execution_count": null,
   "metadata": {},
   "outputs": [],
   "source": [
    "df_cnt['publ_at_enc'] = df_cnt.groupby('page_efahrer_id')['published_at'].transform(lambda x: pd.factorize(x)[0])\n",
    "df_cnt"
   ]
  },
  {
   "cell_type": "markdown",
   "metadata": {},
   "source": [
    "How many versions does each article have?"
   ]
  },
  {
   "cell_type": "code",
   "execution_count": null,
   "metadata": {},
   "outputs": [],
   "source": [
    "to_plot = df_cnt[['page_efahrer_id', 'publ_at_enc']].groupby('page_efahrer_id').max()#.reset_index()\n",
    "first_publ_date = df_cnt[['page_efahrer_id', 'published_at']].groupby('page_efahrer_id').min()\n",
    "first_publ_date = first_publ_date.rename({'published_at': 'First publication date'}, axis=1)\n",
    "to_plot = to_plot.join(first_publ_date)\n",
    "to_plot = to_plot.rename({'publ_at_enc': 'Number of versions'}, axis=1)\n",
    "to_plot"
   ]
  },
  {
   "cell_type": "code",
   "execution_count": null,
   "metadata": {},
   "outputs": [],
   "source": [
    "px.scatter(data_frame=to_plot, x='Number of versions', y='First publication date')"
   ]
  },
  {
   "cell_type": "markdown",
   "metadata": {},
   "source": [
    "Article with 61 (!!!) versions: 105259"
   ]
  },
  {
   "cell_type": "code",
   "execution_count": null,
   "metadata": {},
   "outputs": [],
   "source": [
    "metrics_cols = ['page_canonical_url', 'daily_likes', \n",
    "               'daily_dislikes', 'impressions', 'video_play', \n",
    "               'discover_clicks', 'discover_impressions']"
   ]
  },
  {
   "cell_type": "code",
   "execution_count": null,
   "metadata": {},
   "outputs": [],
   "source": [
    "article105259 = df[df['page_efahrer_id']==105259].sort_values(['date', 'page_canonical_url'])\n",
    "article_first_url = article105259[metrics_cols + ['date']].drop_duplicates(subset=['date'], keep='first')"
   ]
  },
  {
   "cell_type": "code",
   "execution_count": null,
   "metadata": {},
   "outputs": [],
   "source": [
    "import matplotlib.pyplot as plt\n",
    "\n",
    "xticks=pd.date_range(df.date.min(), df.date.max(), freq='2M')\n",
    "fig = article_first_url.plot(kind='bar', x='date', y=metrics_cols, subplots=True, figsize=(6, 12), \n",
    "                       xticks=xticks)\n",
    "plt.gca().set_xticklabels([x.strftime('%a\\n%d\\n%h\\n%Y') for x in xticks]);\n",
    "#plt.xticks(ticks=df[['impressions', 'published_at']].resample('W', on='published_at').max().index);\n",
    "#plt.xticks(ticks=pd.date_range(df.date.min(), df.date.max(), freq='2M'),\n",
    "#           labels=pd.date_range(df.date.min(), df.date.max(), freq='2M'));"
   ]
  },
  {
   "cell_type": "code",
   "execution_count": null,
   "metadata": {},
   "outputs": [],
   "source": [
    "df_full = pd.read_csv('../data/full_data.csv')\n",
    "df_full"
   ]
  }
 ],
 "metadata": {
  "kernelspec": {
   "display_name": ".venv",
   "language": "python",
   "name": "python3"
  },
  "language_info": {
   "codemirror_mode": {
    "name": "ipython",
    "version": 3
   },
   "file_extension": ".py",
   "mimetype": "text/x-python",
   "name": "python",
   "nbconvert_exporter": "python",
   "pygments_lexer": "ipython3",
   "version": "3.11.3"
  }
 },
 "nbformat": 4,
 "nbformat_minor": 2
}
