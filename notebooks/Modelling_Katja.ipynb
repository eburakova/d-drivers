{
 "cells": [
  {
   "cell_type": "code",
   "execution_count": null,
   "metadata": {},
   "outputs": [],
   "source": [
    "from sklearn.tree import DecisionTreeRegressor\n",
    "from sklearn.model_selection import train_test_split\n",
    "from sklearn.linear_model import LinearRegression\n",
    "from sklearn.metrics import mean_squared_error\n",
    "from sklearn.preprocessing import OneHotEncoder\n",
    "from sklearn.preprocessing import PowerTransformer, StandardScaler\n",
    "from sklearn.compose import ColumnTransformer\n",
    "from sklearn.model_selection import GridSearchCV, RandomizedSearchCV\n",
    "from sklearn.impute import SimpleImputer\n",
    "from sklearn.preprocessing import FunctionTransformer\n",
    "\n",
    "from sklearn.metrics import r2_score, root_mean_squared_log_error, root_mean_squared_error, mean_tweedie_deviance\n",
    "\n",
    "import phik\n",
    "from phik.report import plot_correlation_matrix\n",
    "\n",
    "from sklearn.pipeline import Pipeline\n",
    "import pandas as pd\n",
    "import numpy as np\n",
    "import matplotlib.pyplot as plt \n",
    "\n",
    "import plotly.express as px\n",
    "import plotly.io as pio\n",
    "\n",
    "RSEED = 42"
   ]
  },
  {
   "cell_type": "code",
   "execution_count": null,
   "metadata": {},
   "outputs": [],
   "source": [
    "df = pd.read_csv('../data/data_nlp_A.csv', parse_dates=['last_publish_date', 'date_min'])\n",
    "df.columns"
   ]
  },
  {
   "cell_type": "code",
   "execution_count": null,
   "metadata": {},
   "outputs": [],
   "source": [
    "df.page_id = df.page_id.astype('category')"
   ]
  },
  {
   "cell_type": "code",
   "execution_count": null,
   "metadata": {},
   "outputs": [],
   "source": [
    "print('Numerical columns')\n",
    "df.select_dtypes(include=['int', 'float']).columns"
   ]
  },
  {
   "cell_type": "code",
   "execution_count": null,
   "metadata": {},
   "outputs": [],
   "source": [
    "print('Categorical columns')\n",
    "df.select_dtypes(include=['object', 'datetime']).columns"
   ]
  },
  {
   "cell_type": "code",
   "execution_count": null,
   "metadata": {},
   "outputs": [],
   "source": [
    "numerical_features = ['no_versions', 'word_count', 'merged_url_len', \n",
    "                      'h1_len', 'abstract_len', 'likes_n_days', 'dislikes_n_days', \n",
    "                      'video_play', 'mean_version_lifetime',\n",
    "                      'meta_title_len', 'meta_desc_len', \n",
    "                      'confidence_abstract', 'confidence_meta_title']\n",
    "\n",
    "categorical_features = ['classification_product', 'classification_type', 'sentiment_abstract', 'sentiment_meta_title', 'media_type']\n",
    "\n",
    "targets = ['external_clicks', 'external_impressions', 'ctr', 'clickouts', 'ext_impr_norm']"
   ]
  },
  {
   "cell_type": "markdown",
   "metadata": {},
   "source": [
    "# Modelling success for each article"
   ]
  },
  {
   "cell_type": "markdown",
   "metadata": {},
   "source": [
    "Warning: since only a few articles are really successful (like it is usually with viral things), **an extensive EDA on the outliers and methods of anomaly detection are likely the way to go!"
   ]
  },
  {
   "cell_type": "code",
   "execution_count": null,
   "metadata": {},
   "outputs": [],
   "source": [
    "pd.concat((df[categorical_features].describe(include='object').T, # categorical (strings)\n",
    "           df[numerical_features].describe().T)).style.format(precision=0) # numericals"
   ]
  },
  {
   "cell_type": "code",
   "execution_count": null,
   "metadata": {},
   "outputs": [],
   "source": [
    "phik_matrix = df[categorical_features + targets].phik_matrix(interval_cols=list(targets))\n",
    "plot_correlation_matrix(phik_matrix.values, x_labels=phik_matrix.columns, y_labels=phik_matrix.index, \n",
    "                        vmin=0, vmax=1, color_map='BuPu', fontsize_factor=0.75,\n",
    "                        title=r'$\\phi_K$ correlation of the features',\n",
    "                        figsize=(8,6.5))"
   ]
  },
  {
   "cell_type": "code",
   "execution_count": null,
   "metadata": {},
   "outputs": [],
   "source": [
    "pears_matrix = df[numerical_features + targets].corr()\n",
    "plot_correlation_matrix(pears_matrix.values, x_labels=pears_matrix.index, y_labels=pears_matrix.columns,\n",
    "                        vmin=0, vmax=1, color_map='BuPu', fontsize_factor=0.75,\n",
    "                        title=r'Pearson correlation of the features',\n",
    "                        figsize=(10,8.5))"
   ]
  },
  {
   "cell_type": "markdown",
   "metadata": {},
   "source": [
    "## Baseline"
   ]
  },
  {
   "cell_type": "code",
   "execution_count": null,
   "metadata": {},
   "outputs": [],
   "source": [
    "# features and target variable\n",
    "num_bl = ['no_versions', 'word_count', 'h1_len', 'abstract_len', \n",
    "          #'likes_n_days', 'dislikes_n_days', 'video_play', \n",
    "          'mean_version_lifetime']\n",
    "cat_bl = ['classification_product', 'classification_type', 'media_type', 'sentiment_abstract', 'sentiment_meta_title']\n",
    "target = 'external_impressions'\n",
    "\n",
    "X = df[num_bl + cat_bl]\n",
    "y = df[target]\n",
    "X_train, X_test, y_train, y_test = train_test_split(X, y, test_size=0.2, random_state=RSEED)"
   ]
  },
  {
   "cell_type": "code",
   "execution_count": null,
   "metadata": {},
   "outputs": [],
   "source": [
    "X_train.hist()\n",
    "plt.tight_layout()"
   ]
  },
  {
   "cell_type": "code",
   "execution_count": null,
   "metadata": {},
   "outputs": [],
   "source": [
    "## for numerical features\n",
    "\n",
    "# Custom function to add a constant to a column\n",
    "def correct_version_count(X, constant):\n",
    "    X_copy = X.copy()  # Create a copy to avoid modifying the original data\n",
    "    X_copy[:, 0] += constant  # Assuming column_index is the index of the column you want to modify\n",
    "    return X_copy\n",
    "\n",
    "skewed_feats_pipeline = Pipeline([\n",
    "    ('impute', SimpleImputer(strategy='constant', fill_value=0)),\n",
    "    ('add_constant', FunctionTransformer(func = lambda x: x+1,\n",
    "                                         inverse_func = lambda x: x-1,\n",
    "                                         feature_names_out='one-to-one')),\n",
    "    ('pow', PowerTransformer())\n",
    "])\n",
    "# norm_features = Pipeline([\n",
    "#     ('scale_num', StandardScaler())\n",
    "# ])\n",
    "\n",
    "cat_pipeline = Pipeline([\n",
    "    ('1hot', OneHotEncoder(drop='first', handle_unknown='ignore')),\n",
    "])\n",
    "\n",
    "preprocessor = ColumnTransformer([\n",
    "    #('scale_num', norm_features, ['no_versions', 'word_count', 'h1_len', 'abstract_len']),\n",
    "    #('pow', skewed_feats_pipeline, num_bl),\n",
    "    ('cat', cat_pipeline, cat_bl)\n",
    "])\n",
    "# Initiating Pipelines\n",
    "## for categorical features\n",
    "powtr = PowerTransformer()\n",
    "\n",
    "# Target transform\n",
    "y_train_t = powtr.fit_transform(y_train.to_frame())\n",
    "y_test_t = powtr.transform(y_test.to_frame())\n",
    "# Reverse the transform when deciphering predictions!\n",
    "\n",
    "pipe_tree = Pipeline([\n",
    "    ('preprocessor', preprocessor),\n",
    "    ('tree', DecisionTreeRegressor(criterion='poisson'))\n",
    "])"
   ]
  },
  {
   "cell_type": "code",
   "execution_count": null,
   "metadata": {},
   "outputs": [],
   "source": [
    "pipe_tree"
   ]
  },
  {
   "cell_type": "code",
   "execution_count": null,
   "metadata": {},
   "outputs": [],
   "source": [
    "X_train_tr = preprocessor.fit_transform(X_train)\n",
    "X_train_tr_df = pd.DataFrame(data=np.asarray(X_train_tr.todense()), columns=preprocessor.get_feature_names_out(), index=X_train.index)\n",
    "X_train_tr_df[[col for col in X_train_tr_df.columns if col[:3]=='pow']].hist();\n",
    "plt.gcf().suptitle('Power-transformed features only')\n",
    "plt.tight_layout()"
   ]
  },
  {
   "cell_type": "code",
   "execution_count": null,
   "metadata": {},
   "outputs": [],
   "source": [
    "X_train.isna().sum()"
   ]
  },
  {
   "cell_type": "code",
   "execution_count": null,
   "metadata": {},
   "outputs": [],
   "source": [
    "# cat_pipeline = Pipeline([\n",
    "#     ('1hot', OneHotEncoder(handle_unknown='ignore')),\n",
    "# ])\n",
    "\n",
    "# preprocessor = ColumnTransformer([\n",
    "# #    ('num', norm_features, ['no_versions', 'word_count', 'likes_n_days', 'merged_url_len',\n",
    "# #    'mean_version_lifetime']),\n",
    "#     ('cat', cat_pipeline, cat_bl)\n",
    "# ])\n",
    "\n"
   ]
  },
  {
   "cell_type": "code",
   "execution_count": null,
   "metadata": {},
   "outputs": [],
   "source": [
    "pipe_tree.fit(X_train, y_train)"
   ]
  },
  {
   "cell_type": "code",
   "execution_count": null,
   "metadata": {},
   "outputs": [],
   "source": [
    "pred = pipe_tree.predict(X_test)"
   ]
  },
  {
   "cell_type": "code",
   "execution_count": null,
   "metadata": {},
   "outputs": [],
   "source": [
    "pred"
   ]
  },
  {
   "cell_type": "code",
   "execution_count": null,
   "metadata": {},
   "outputs": [],
   "source": [
    "y_test_t_1d = y_test_t.reshape(y_test_t.shape[0])"
   ]
  },
  {
   "cell_type": "code",
   "execution_count": null,
   "metadata": {},
   "outputs": [],
   "source": [
    "pred"
   ]
  },
  {
   "cell_type": "markdown",
   "metadata": {},
   "source": [
    "## Evaluation"
   ]
  },
  {
   "cell_type": "code",
   "execution_count": null,
   "metadata": {},
   "outputs": [],
   "source": [
    "fig_bl_pred = px.scatter(x=y_test_t_1d, y=pred, trendline='ols', \n",
    "                         trendline_color_override='darkred')\n",
    "print('Features used:')\n",
    "print('Numerical:', num_bl)\n",
    "print('Categorical', cat_bl)\n",
    "fig_bl_pred.add_annotation(x=-4, y=4,\n",
    "            text=f'''Features used:<br>Numerical: {num_bl}<br>Categorical: {cat_bl}''',\n",
    "            showarrow=False,\n",
    "            yshift=10);"
   ]
  },
  {
   "cell_type": "code",
   "execution_count": null,
   "metadata": {},
   "outputs": [],
   "source": [
    "fig_bl_pred.update_layout(height=800, width=700, title='Baseline predictions', \n",
    "                          yaxis_title='y predicted (transformed)', \n",
    "                          xaxis_title='y test (transformed)',\n",
    "                          margin={'t': 130})\n",
    "\n",
    "fig_bl_pred.update_layout(\n",
    "    annotations=[\n",
    "        dict(\n",
    "            x=-0.07,  # X-coordinate outside the plot area\n",
    "            y=1,  # Y-coordinate (top of the plot)\n",
    "            xref=\"paper\",\n",
    "            yref=\"paper\",\n",
    "            xanchor=\"left\",\n",
    "            yanchor=\"bottom\",\n",
    "            text=f'''Features used:<br>Numerical: {num_bl}<br>Categorical: {cat_bl}''',\n",
    "            align=\"left\",\n",
    "            showarrow=False,\n",
    "            )\n",
    "    ]\n",
    ")\n",
    "fig_bl_pred.show()"
   ]
  },
  {
   "cell_type": "code",
   "execution_count": null,
   "metadata": {},
   "outputs": [],
   "source": [
    "import plotly.io as pio\n",
    "\n",
    "pio.write_image(fig_bl_pred, file='../models/baseline_katja.jpg')"
   ]
  },
  {
   "cell_type": "code",
   "execution_count": null,
   "metadata": {},
   "outputs": [],
   "source": [
    "#from sklearn.tree import plot_tree\n",
    "#plot_tree(pipe_tree.steps[-1][1])\n",
    "\n",
    "bl_tree = pipe_tree.steps[-1][1]\n",
    "bl_tree.get_n_leaves(), bl_tree.get_depth()"
   ]
  },
  {
   "cell_type": "code",
   "execution_count": null,
   "metadata": {},
   "outputs": [],
   "source": [
    "from pickle import dump\n",
    "\n",
    "dump(pipe_tree, open('../models/bl_katja.pkl', 'wb'))"
   ]
  },
  {
   "cell_type": "code",
   "execution_count": null,
   "metadata": {},
   "outputs": [],
   "source": [
    "feat_imp = bl_tree.feature_importances_\n",
    "feat_names = pipe_tree[:-1].get_feature_names_out()\n",
    "\n",
    "#feature_importance = np.array([(name, coeff) for name, coeff in sorted(zip(feat_names, feat_imp), key=lambda x: x[1])])\n",
    "feature_importance = pd.DataFrame().from_records(data={'Features': [name.split('__')[-1] for name in feat_names], 'Importance': feat_imp})\n",
    "sorted_importances = feature_importance.sort_values('Importance', ascending=True)\n",
    "#feature_importance = sorted(feature_importance.items(), key=lambda x: x[1], reverse=True)"
   ]
  },
  {
   "cell_type": "code",
   "execution_count": null,
   "metadata": {},
   "outputs": [],
   "source": [
    "fig_importance = px.bar(sorted_importances, y='Features', x='Importance',\n",
    "                        orientation='h', height=800, width=800, \n",
    "                        #xaxis_label_text='', yaxis_label_text=''\n",
    "                        )\n",
    "fig_importance.show()"
   ]
  },
  {
   "cell_type": "code",
   "execution_count": null,
   "metadata": {},
   "outputs": [],
   "source": [
    "pio.write_image(fig_importance, file='../models/baseline_katja_features.jpg')"
   ]
  },
  {
   "cell_type": "code",
   "execution_count": null,
   "metadata": {},
   "outputs": [],
   "source": [
    "import pandas as pd\n",
    "from pickle import load\n",
    "from sklearn.model_selection import train_test_split\n",
    "\n",
    "# Run the script 5A_sentiment_merge.py\n",
    "\n",
    "df = pd.read_csv('../data/data_nlp_A.csv', parse_dates=['last_publish_date', 'date_min'])\n",
    "\n",
    "# features and target variable\n",
    "num_bl = ['no_versions', 'word_count', 'h1_len', 'abstract_len', 'mean_version_lifetime']\n",
    "cat_bl = ['classification_product', 'classification_type', 'media_type', 'sentiment_abstract', 'sentiment_meta_title']\n",
    "target = 'external_clicks'\n",
    "\n",
    "X = df[num_bl + cat_bl]\n",
    "y = df[target]\n",
    "X_train, X_test, y_train, y_test = train_test_split(X, y, test_size=0.2, random_state=42)\n",
    "\n",
    "bl_katja = load(open('../models/bl_katja.pkl', 'rb'))\n",
    "\n",
    "pred = bl_katja.predict(X_test)"
   ]
  },
  {
   "cell_type": "code",
   "execution_count": null,
   "metadata": {},
   "outputs": [],
   "source": [
    "y_train_t = powtr.fit_transform(y_train.to_frame())\n",
    "y_test_t = powtr.transform(y_test.to_frame())"
   ]
  },
  {
   "cell_type": "code",
   "execution_count": null,
   "metadata": {},
   "outputs": [],
   "source": [
    "pred_nat = powtr.inverse_transform(pd.DataFrame(data=pred, columns=y_test.to_frame().columns))"
   ]
  },
  {
   "cell_type": "code",
   "execution_count": null,
   "metadata": {},
   "outputs": [],
   "source": [
    "pred_nat.shape"
   ]
  },
  {
   "cell_type": "code",
   "execution_count": null,
   "metadata": {},
   "outputs": [],
   "source": [
    "fig_bl_pred_real = px.scatter(x=y_test.values, y=pred_nat.reshape(pred_nat.shape[0]), \n",
    "                              #trendline='ols', trendline_color_override='darkred',\n",
    "                              labels={'x': 'y test', 'y': 'predicted target'}\n",
    "                              )\n",
    "fig_bl_pred_real.show()"
   ]
  },
  {
   "cell_type": "code",
   "execution_count": null,
   "metadata": {},
   "outputs": [],
   "source": [
    "fig_bl_pred_real = px.scatter(x=y_test.values, y=pred_nat.reshape(pred_nat.shape[0])-y_test.values, \n",
    "                              #trendline='ols', trendline_color_override='darkred'\n",
    "                              )\n",
    "fig_bl_pred_real.show()"
   ]
  },
  {
   "cell_type": "markdown",
   "metadata": {},
   "source": [
    "## Same model for other targets"
   ]
  },
  {
   "cell_type": "code",
   "execution_count": null,
   "metadata": {},
   "outputs": [],
   "source": [
    "import pandas as pd\n",
    "from pickle import load\n",
    "from sklearn.model_selection import train_test_split\n",
    "from sklearn.preprocessing import PowerTransformer\n",
    "\n",
    "from sklearn.metrics import r2_score\n",
    "\n",
    "df = pd.read_csv('../data/data_nlp_A.csv', parse_dates=['last_publish_date', 'date_min'])\n",
    "\n",
    "# features and target variable\n",
    "num_bl = ['no_versions', 'word_count', 'h1_len', 'abstract_len', 'mean_version_lifetime']\n",
    "cat_bl = ['classification_product', 'classification_type', 'media_type', 'sentiment_abstract', 'sentiment_meta_title']\n",
    "target = 'ext_impr_norm'\n",
    "\n",
    "X = df[num_bl + cat_bl]\n",
    "y = df[target]\n",
    "X_train, X_test, y_train, y_test = train_test_split(X, y, test_size=0.2, random_state=42)\n",
    "\n",
    "bl_katja = load(open('../models/bl_katja.pkl', 'rb'))\n",
    "\n",
    "powtr = PowerTransformer()\n",
    "y_train_t = powtr.fit_transform(y_train.to_frame())\n",
    "y_test_t = powtr.transform(y_test.to_frame())\n",
    "\n",
    "bl_katja.fit(X_train, y_train_t)"
   ]
  },
  {
   "cell_type": "code",
   "execution_count": null,
   "metadata": {},
   "outputs": [],
   "source": [
    "pred = bl_katja.predict(X_test)\n",
    "pred"
   ]
  },
  {
   "cell_type": "code",
   "execution_count": null,
   "metadata": {},
   "outputs": [],
   "source": [
    "pred_nat = powtr.inverse_transform(pd.DataFrame(data=pred, columns=y_test.to_frame().columns)).reshape(pred.shape)\n",
    "pred_nat"
   ]
  },
  {
   "cell_type": "code",
   "execution_count": null,
   "metadata": {},
   "outputs": [],
   "source": [
    "r2_score(y_pred=pred, y_true=y_test_t)"
   ]
  },
  {
   "cell_type": "code",
   "execution_count": null,
   "metadata": {},
   "outputs": [],
   "source": [
    "px.scatter(x=y_test_t.reshape(pred.shape), y=pred,\n",
    "        trendline='ols', trendline_color_override='darkred',\n",
    "        labels={'x': 'y test', 'y': 'predicted target'})\n",
    "\n",
    "# pred_nat = powtr.inverse_transform(pd.DataFrame(data=pred, columns=y_test.to_frame().columns)).reshape(pred.shape)\n",
    "# px.scatter(x=y_test.values, y=pred_nat,\n",
    "#     #trendline='ols', trendline_color_override='darkred',\n",
    "#         labels={'x': 'y test', 'y': 'predicted target'})"
   ]
  },
  {
   "cell_type": "code",
   "execution_count": null,
   "metadata": {},
   "outputs": [],
   "source": [
    "from functions import plot_feature_importance\n",
    "\n",
    "plot_feature_importance(pipe_tree.steps[0][1])"
   ]
  },
  {
   "cell_type": "code",
   "execution_count": null,
   "metadata": {},
   "outputs": [],
   "source": [
    "pipe_tree.steps[1]"
   ]
  }
 ],
 "metadata": {
  "kernelspec": {
   "display_name": ".venv",
   "language": "python",
   "name": "python3"
  },
  "language_info": {
   "codemirror_mode": {
    "name": "ipython",
    "version": 3
   },
   "file_extension": ".py",
   "mimetype": "text/x-python",
   "name": "python",
   "nbconvert_exporter": "python",
   "pygments_lexer": "ipython3",
   "version": "3.11.3"
  }
 },
 "nbformat": 4,
 "nbformat_minor": 2
}
