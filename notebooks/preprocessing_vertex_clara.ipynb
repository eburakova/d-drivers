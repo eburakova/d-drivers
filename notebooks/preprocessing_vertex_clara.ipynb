{
 "cells": [
  {
   "cell_type": "code",
   "execution_count": 21,
   "metadata": {},
   "outputs": [
    {
     "name": "stderr",
     "output_type": "stream",
     "text": [
      "[nltk_data] Downloading package stopwords to /Users/clara/nltk_data...\n",
      "[nltk_data]   Package stopwords is already up-to-date!\n",
      "[nltk_data] Downloading package punkt to /Users/clara/nltk_data...\n",
      "[nltk_data]   Package punkt is already up-to-date!\n",
      "[nltk_data] Downloading package wordnet to /Users/clara/nltk_data...\n",
      "[nltk_data]   Package wordnet is already up-to-date!\n"
     ]
    }
   ],
   "source": [
    "import pandas as pd\n",
    "import nltk\n",
    "nltk.download(\"stopwords\")\n",
    "nltk.download(\"punkt\")\n",
    "nltk.download(\"wordnet\")\n",
    "\n",
    "from nltk.corpus import stopwords\n",
    "from nltk.tokenize import sent_tokenize, word_tokenize\n",
    "from sklearn.feature_extraction.text import CountVectorizer, TfidfVectorizer\n",
    "from sklearn.preprocessing import StandardScaler, PowerTransformer\n",
    "import string\n",
    "\n",
    "stop_words = set(stopwords.words('german'))"
   ]
  },
  {
   "cell_type": "markdown",
   "metadata": {},
   "source": [
    "Extract the most important words from title, h1, abstract, url with NLP (e.g. TF-IDF )"
   ]
  },
  {
   "cell_type": "code",
   "execution_count": 41,
   "metadata": {},
   "outputs": [],
   "source": [
    "df = pd.read_csv('/Users/clara/Desktop/neuefische/d-drivers/data/data_nlp_A.csv')"
   ]
  },
  {
   "cell_type": "code",
   "execution_count": 42,
   "metadata": {},
   "outputs": [
    {
     "data": {
      "text/plain": [
       "Index(['page_id', 'n_days', 'date_min', 'n_urls', 'date_max', 'age', 'url',\n",
       "       'no_versions', 'last_publish_date', 'word_count',\n",
       "       'classification_product', 'classification_type', 'page_name', 'title',\n",
       "       'author_list', 'external_clicks', 'external_impressions',\n",
       "       'likes_n_days', 'dislikes_n_days', 'video_play', 'page_impressions',\n",
       "       'clickouts', 'ctr', 'mean_version_lifetime', 'publ_freq',\n",
       "       'ext_impr_norm', 'h1', 'scraped_author', 'date_scraped', 'abstract',\n",
       "       'scraped_word_count', 'meta_title', 'meta_description',\n",
       "       'meta_image_url', 'media_type', 'page_img_size', 'merged_url',\n",
       "       'meta_title_len', 'meta_desc_len', 'h1_len', 'abstract_len',\n",
       "       'merged_url_len', 'title_has_colon', 'clickbait_label',\n",
       "       'clickbait_prob', 'google_trend_prob', 'google_trend_label',\n",
       "       'google_trend_score', 'video_player_types', 'sentiment_abstract',\n",
       "       'confidence_abstract', 'sentiment_meta_title', 'confidence_meta_title'],\n",
       "      dtype='object')"
      ]
     },
     "execution_count": 42,
     "metadata": {},
     "output_type": "execute_result"
    }
   ],
   "source": [
    "df.columns"
   ]
  },
  {
   "cell_type": "code",
   "execution_count": 44,
   "metadata": {},
   "outputs": [
    {
     "name": "stdout",
     "output_type": "stream",
     "text": [
      "<class 'pandas.core.frame.DataFrame'>\n",
      "RangeIndex: 6815 entries, 0 to 6814\n",
      "Data columns (total 53 columns):\n",
      " #   Column                  Non-Null Count  Dtype  \n",
      "---  ------                  --------------  -----  \n",
      " 0   page_id                 6815 non-null   int64  \n",
      " 1   n_days                  6815 non-null   int64  \n",
      " 2   date_min                6815 non-null   object \n",
      " 3   n_urls                  6815 non-null   int64  \n",
      " 4   date_max                6815 non-null   object \n",
      " 5   age                     6815 non-null   int64  \n",
      " 6   url                     6815 non-null   object \n",
      " 7   no_versions             6815 non-null   int64  \n",
      " 8   last_publish_date       6815 non-null   object \n",
      " 9   word_count              6815 non-null   float64\n",
      " 10  classification_product  6815 non-null   object \n",
      " 11  classification_type     6815 non-null   object \n",
      " 12  page_name               6815 non-null   object \n",
      " 13  title                   6815 non-null   object \n",
      " 14  author_list             6815 non-null   object \n",
      " 15  external_clicks         6815 non-null   float64\n",
      " 16  external_impressions    6815 non-null   float64\n",
      " 17  likes_n_days            6815 non-null   float64\n",
      " 18  dislikes_n_days         6815 non-null   float64\n",
      " 19  video_play              6815 non-null   float64\n",
      " 20  page_impressions        6815 non-null   float64\n",
      " 21  clickouts               6815 non-null   float64\n",
      " 22  ctr                     6815 non-null   float64\n",
      " 23  mean_version_lifetime   6815 non-null   float64\n",
      " 24  publ_freq               6815 non-null   float64\n",
      " 25  ext_impr_norm           6815 non-null   float64\n",
      " 26  h1                      6815 non-null   object \n",
      " 27  scraped_author          6815 non-null   object \n",
      " 28  date_scraped            6815 non-null   object \n",
      " 29  abstract                6808 non-null   object \n",
      " 30  scraped_word_count      6815 non-null   int64  \n",
      " 31  meta_title              6815 non-null   object \n",
      " 32  meta_description        6815 non-null   object \n",
      " 33  meta_image_url          6815 non-null   object \n",
      " 34  media_type              6815 non-null   object \n",
      " 35  page_img_size           5066 non-null   object \n",
      " 36  merged_url              6815 non-null   object \n",
      " 37  meta_title_len          6815 non-null   int64  \n",
      " 38  meta_desc_len           6815 non-null   int64  \n",
      " 39  h1_len                  6815 non-null   int64  \n",
      " 40  abstract_len            6808 non-null   float64\n",
      " 41  merged_url_len          6815 non-null   int64  \n",
      " 42  title_has_colon         6815 non-null   bool   \n",
      " 43  clickbait_label         6815 non-null   object \n",
      " 44  clickbait_prob          6815 non-null   float64\n",
      " 45  google_trend_prob       6815 non-null   float64\n",
      " 46  google_trend_label      6815 non-null   object \n",
      " 47  google_trend_score      6815 non-null   int64  \n",
      " 48  video_player_types      5824 non-null   object \n",
      " 49  sentiment_abstract      6815 non-null   object \n",
      " 50  confidence_abstract     6808 non-null   float64\n",
      " 51  sentiment_meta_title    6815 non-null   object \n",
      " 52  confidence_meta_title   6815 non-null   float64\n",
      "dtypes: bool(1), float64(17), int64(11), object(24)\n",
      "memory usage: 2.7+ MB\n"
     ]
    }
   ],
   "source": [
    "df.info()"
   ]
  },
  {
   "cell_type": "code",
   "execution_count": 45,
   "metadata": {},
   "outputs": [
    {
     "data": {
      "text/html": [
       "<div>\n",
       "<style scoped>\n",
       "    .dataframe tbody tr th:only-of-type {\n",
       "        vertical-align: middle;\n",
       "    }\n",
       "\n",
       "    .dataframe tbody tr th {\n",
       "        vertical-align: top;\n",
       "    }\n",
       "\n",
       "    .dataframe thead th {\n",
       "        text-align: right;\n",
       "    }\n",
       "</style>\n",
       "<table border=\"1\" class=\"dataframe\">\n",
       "  <thead>\n",
       "    <tr style=\"text-align: right;\">\n",
       "      <th></th>\n",
       "      <th>page_id</th>\n",
       "      <th>n_days</th>\n",
       "      <th>date_min</th>\n",
       "      <th>n_urls</th>\n",
       "      <th>date_max</th>\n",
       "      <th>age</th>\n",
       "      <th>url</th>\n",
       "      <th>no_versions</th>\n",
       "      <th>last_publish_date</th>\n",
       "      <th>word_count</th>\n",
       "      <th>...</th>\n",
       "      <th>clickbait_label</th>\n",
       "      <th>clickbait_prob</th>\n",
       "      <th>google_trend_prob</th>\n",
       "      <th>google_trend_label</th>\n",
       "      <th>google_trend_score</th>\n",
       "      <th>video_player_types</th>\n",
       "      <th>sentiment_abstract</th>\n",
       "      <th>confidence_abstract</th>\n",
       "      <th>sentiment_meta_title</th>\n",
       "      <th>confidence_meta_title</th>\n",
       "    </tr>\n",
       "  </thead>\n",
       "  <tbody>\n",
       "    <tr>\n",
       "      <th>0</th>\n",
       "      <td>1037</td>\n",
       "      <td>6</td>\n",
       "      <td>2024-03-13</td>\n",
       "      <td>2</td>\n",
       "      <td>2024-03-18</td>\n",
       "      <td>22</td>\n",
       "      <td>https://efahrer.chip.de/e-wissen/elektrofahrze...</td>\n",
       "      <td>0</td>\n",
       "      <td>2024-03-10</td>\n",
       "      <td>827.0</td>\n",
       "      <td>...</td>\n",
       "      <td>Not Clickbait</td>\n",
       "      <td>0.742681</td>\n",
       "      <td>0.534224</td>\n",
       "      <td>e-auto vergleich</td>\n",
       "      <td>15</td>\n",
       "      <td>NaN</td>\n",
       "      <td>positive</td>\n",
       "      <td>0.891435</td>\n",
       "      <td>neutral</td>\n",
       "      <td>0.994909</td>\n",
       "    </tr>\n",
       "    <tr>\n",
       "      <th>1</th>\n",
       "      <td>1039</td>\n",
       "      <td>1</td>\n",
       "      <td>2024-03-17</td>\n",
       "      <td>2</td>\n",
       "      <td>2024-03-17</td>\n",
       "      <td>697</td>\n",
       "      <td>https://efahrer.chip.de/e-wissen/elektroauto-f...</td>\n",
       "      <td>0</td>\n",
       "      <td>2022-05-05</td>\n",
       "      <td>1066.0</td>\n",
       "      <td>...</td>\n",
       "      <td>Not Clickbait</td>\n",
       "      <td>0.856208</td>\n",
       "      <td>0.247981</td>\n",
       "      <td>e-auto prämie</td>\n",
       "      <td>13</td>\n",
       "      <td>1 - Standard</td>\n",
       "      <td>neutral</td>\n",
       "      <td>0.950322</td>\n",
       "      <td>neutral</td>\n",
       "      <td>0.940748</td>\n",
       "    </tr>\n",
       "    <tr>\n",
       "      <th>2</th>\n",
       "      <td>1040</td>\n",
       "      <td>10</td>\n",
       "      <td>2024-02-22</td>\n",
       "      <td>1</td>\n",
       "      <td>2024-03-02</td>\n",
       "      <td>40</td>\n",
       "      <td>https://efahrer.chip.de/news/haetten-sie-es-ge...</td>\n",
       "      <td>0</td>\n",
       "      <td>2024-02-21</td>\n",
       "      <td>466.0</td>\n",
       "      <td>...</td>\n",
       "      <td>Clickbait</td>\n",
       "      <td>0.773124</td>\n",
       "      <td>0.306558</td>\n",
       "      <td>elektroauto</td>\n",
       "      <td>34</td>\n",
       "      <td>3 - Widget</td>\n",
       "      <td>negative</td>\n",
       "      <td>0.980951</td>\n",
       "      <td>neutral</td>\n",
       "      <td>0.967907</td>\n",
       "    </tr>\n",
       "    <tr>\n",
       "      <th>3</th>\n",
       "      <td>10245</td>\n",
       "      <td>3</td>\n",
       "      <td>2023-03-25</td>\n",
       "      <td>1</td>\n",
       "      <td>2023-03-27</td>\n",
       "      <td>2282</td>\n",
       "      <td>https://efahrer.chip.de/news/kleinste-auto-der...</td>\n",
       "      <td>0</td>\n",
       "      <td>2018-01-01</td>\n",
       "      <td>0.0</td>\n",
       "      <td>...</td>\n",
       "      <td>Not Clickbait</td>\n",
       "      <td>0.827747</td>\n",
       "      <td>0.394159</td>\n",
       "      <td>elektro auto</td>\n",
       "      <td>13</td>\n",
       "      <td>NaN</td>\n",
       "      <td>neutral</td>\n",
       "      <td>0.999933</td>\n",
       "      <td>neutral</td>\n",
       "      <td>0.962445</td>\n",
       "    </tr>\n",
       "    <tr>\n",
       "      <th>4</th>\n",
       "      <td>10273</td>\n",
       "      <td>24</td>\n",
       "      <td>2023-12-01</td>\n",
       "      <td>4</td>\n",
       "      <td>2024-03-06</td>\n",
       "      <td>2282</td>\n",
       "      <td>https://efahrer.chip.de/news/mehr-reichweite-i...</td>\n",
       "      <td>4</td>\n",
       "      <td>2024-02-28</td>\n",
       "      <td>530.5</td>\n",
       "      <td>...</td>\n",
       "      <td>Not Clickbait</td>\n",
       "      <td>0.780902</td>\n",
       "      <td>0.136335</td>\n",
       "      <td>elektroauto</td>\n",
       "      <td>34</td>\n",
       "      <td>1 - Standard</td>\n",
       "      <td>neutral</td>\n",
       "      <td>0.899187</td>\n",
       "      <td>negative</td>\n",
       "      <td>0.946896</td>\n",
       "    </tr>\n",
       "  </tbody>\n",
       "</table>\n",
       "<p>5 rows × 53 columns</p>\n",
       "</div>"
      ],
      "text/plain": [
       "   page_id  n_days    date_min  n_urls    date_max   age   \n",
       "0     1037       6  2024-03-13       2  2024-03-18    22  \\\n",
       "1     1039       1  2024-03-17       2  2024-03-17   697   \n",
       "2     1040      10  2024-02-22       1  2024-03-02    40   \n",
       "3    10245       3  2023-03-25       1  2023-03-27  2282   \n",
       "4    10273      24  2023-12-01       4  2024-03-06  2282   \n",
       "\n",
       "                                                 url  no_versions   \n",
       "0  https://efahrer.chip.de/e-wissen/elektrofahrze...            0  \\\n",
       "1  https://efahrer.chip.de/e-wissen/elektroauto-f...            0   \n",
       "2  https://efahrer.chip.de/news/haetten-sie-es-ge...            0   \n",
       "3  https://efahrer.chip.de/news/kleinste-auto-der...            0   \n",
       "4  https://efahrer.chip.de/news/mehr-reichweite-i...            4   \n",
       "\n",
       "  last_publish_date  word_count  ... clickbait_label clickbait_prob   \n",
       "0        2024-03-10       827.0  ...   Not Clickbait       0.742681  \\\n",
       "1        2022-05-05      1066.0  ...   Not Clickbait       0.856208   \n",
       "2        2024-02-21       466.0  ...       Clickbait       0.773124   \n",
       "3        2018-01-01         0.0  ...   Not Clickbait       0.827747   \n",
       "4        2024-02-28       530.5  ...   Not Clickbait       0.780902   \n",
       "\n",
       "  google_trend_prob google_trend_label google_trend_score  video_player_types   \n",
       "0          0.534224   e-auto vergleich                 15                 NaN  \\\n",
       "1          0.247981      e-auto prämie                 13        1 - Standard   \n",
       "2          0.306558        elektroauto                 34          3 - Widget   \n",
       "3          0.394159       elektro auto                 13                 NaN   \n",
       "4          0.136335        elektroauto                 34        1 - Standard   \n",
       "\n",
       "   sentiment_abstract  confidence_abstract  sentiment_meta_title   \n",
       "0            positive             0.891435               neutral  \\\n",
       "1             neutral             0.950322               neutral   \n",
       "2            negative             0.980951               neutral   \n",
       "3             neutral             0.999933               neutral   \n",
       "4             neutral             0.899187              negative   \n",
       "\n",
       "   confidence_meta_title  \n",
       "0               0.994909  \n",
       "1               0.940748  \n",
       "2               0.967907  \n",
       "3               0.962445  \n",
       "4               0.946896  \n",
       "\n",
       "[5 rows x 53 columns]"
      ]
     },
     "execution_count": 45,
     "metadata": {},
     "output_type": "execute_result"
    }
   ],
   "source": [
    "df.head()"
   ]
  },
  {
   "cell_type": "markdown",
   "metadata": {},
   "source": [
    "### Scale target variable"
   ]
  },
  {
   "cell_type": "code",
   "execution_count": 46,
   "metadata": {},
   "outputs": [],
   "source": [
    "scaler = PowerTransformer()\n",
    "\n",
    "# Transform the target variable\n",
    "df['external_impressions_scaled'] = scaler.fit_transform(df[['external_impressions']])\n",
    "df['external_clicks_scaled'] = scaler.fit_transform(df[['external_clicks']])\n",
    "df['ctr_scaled'] = scaler.fit_transform(df[['ctr']])\n",
    "\n",
    "df['likes_scaled'] = scaler.fit_transform(df[['likes_n_days']])"
   ]
  },
  {
   "cell_type": "markdown",
   "metadata": {},
   "source": [
    "### Remove stop words"
   ]
  },
  {
   "cell_type": "code",
   "execution_count": 47,
   "metadata": {},
   "outputs": [],
   "source": [
    "def remove_stopwords(text):\n",
    "    if isinstance(text, str):        \n",
    "        words = word_tokenize(text)\n",
    "        # Remove punctuation and special characters\n",
    "        text = text.translate(str.maketrans('', '', string.punctuation))\n",
    "        # Remove stopwords\n",
    "        return ' '.join([word for word in words if word.lower() not in stop_words])\n",
    "    else:\n",
    "        return text\n",
    "\n",
    "def remove_stopwords_from_columns(df, columns):\n",
    "    for col in columns:\n",
    "        df[col] = df[col].apply(remove_stopwords)\n",
    "    return df\n",
    "\n",
    "columns_to_clean = ['h1','abstract','meta_title','meta_description']\n",
    "df = remove_stopwords_from_columns(df, columns_to_clean)"
   ]
  },
  {
   "cell_type": "code",
   "execution_count": 48,
   "metadata": {},
   "outputs": [
    {
     "name": "stdout",
     "output_type": "stream",
     "text": [
      "<class 'pandas.core.frame.DataFrame'>\n",
      "RangeIndex: 6815 entries, 0 to 6814\n",
      "Data columns (total 57 columns):\n",
      " #   Column                       Non-Null Count  Dtype  \n",
      "---  ------                       --------------  -----  \n",
      " 0   page_id                      6815 non-null   int64  \n",
      " 1   n_days                       6815 non-null   int64  \n",
      " 2   date_min                     6815 non-null   object \n",
      " 3   n_urls                       6815 non-null   int64  \n",
      " 4   date_max                     6815 non-null   object \n",
      " 5   age                          6815 non-null   int64  \n",
      " 6   url                          6815 non-null   object \n",
      " 7   no_versions                  6815 non-null   int64  \n",
      " 8   last_publish_date            6815 non-null   object \n",
      " 9   word_count                   6815 non-null   float64\n",
      " 10  classification_product       6815 non-null   object \n",
      " 11  classification_type          6815 non-null   object \n",
      " 12  page_name                    6815 non-null   object \n",
      " 13  title                        6815 non-null   object \n",
      " 14  author_list                  6815 non-null   object \n",
      " 15  external_clicks              6815 non-null   float64\n",
      " 16  external_impressions         6815 non-null   float64\n",
      " 17  likes_n_days                 6815 non-null   float64\n",
      " 18  dislikes_n_days              6815 non-null   float64\n",
      " 19  video_play                   6815 non-null   float64\n",
      " 20  page_impressions             6815 non-null   float64\n",
      " 21  clickouts                    6815 non-null   float64\n",
      " 22  ctr                          6815 non-null   float64\n",
      " 23  mean_version_lifetime        6815 non-null   float64\n",
      " 24  publ_freq                    6815 non-null   float64\n",
      " 25  ext_impr_norm                6815 non-null   float64\n",
      " 26  h1                           6815 non-null   object \n",
      " 27  scraped_author               6815 non-null   object \n",
      " 28  date_scraped                 6815 non-null   object \n",
      " 29  abstract                     6808 non-null   object \n",
      " 30  scraped_word_count           6815 non-null   int64  \n",
      " 31  meta_title                   6815 non-null   object \n",
      " 32  meta_description             6815 non-null   object \n",
      " 33  meta_image_url               6815 non-null   object \n",
      " 34  media_type                   6815 non-null   object \n",
      " 35  page_img_size                5066 non-null   object \n",
      " 36  merged_url                   6815 non-null   object \n",
      " 37  meta_title_len               6815 non-null   int64  \n",
      " 38  meta_desc_len                6815 non-null   int64  \n",
      " 39  h1_len                       6815 non-null   int64  \n",
      " 40  abstract_len                 6808 non-null   float64\n",
      " 41  merged_url_len               6815 non-null   int64  \n",
      " 42  title_has_colon              6815 non-null   bool   \n",
      " 43  clickbait_label              6815 non-null   object \n",
      " 44  clickbait_prob               6815 non-null   float64\n",
      " 45  google_trend_prob            6815 non-null   float64\n",
      " 46  google_trend_label           6815 non-null   object \n",
      " 47  google_trend_score           6815 non-null   int64  \n",
      " 48  video_player_types           5824 non-null   object \n",
      " 49  sentiment_abstract           6815 non-null   object \n",
      " 50  confidence_abstract          6808 non-null   float64\n",
      " 51  sentiment_meta_title         6815 non-null   object \n",
      " 52  confidence_meta_title        6815 non-null   float64\n",
      " 53  external_impressions_scaled  6815 non-null   float64\n",
      " 54  external_clicks_scaled       6815 non-null   float64\n",
      " 55  ctr_scaled                   6815 non-null   float64\n",
      " 56  likes_scaled                 6815 non-null   float64\n",
      "dtypes: bool(1), float64(21), int64(11), object(24)\n",
      "memory usage: 2.9+ MB\n"
     ]
    }
   ],
   "source": [
    "df.info()"
   ]
  },
  {
   "cell_type": "markdown",
   "metadata": {},
   "source": [
    "### One hot encode categorical values"
   ]
  },
  {
   "cell_type": "code",
   "execution_count": 49,
   "metadata": {},
   "outputs": [
    {
     "data": {
      "text/plain": [
       "Index(['page_id', 'n_days', 'date_min', 'n_urls', 'date_max', 'age', 'url',\n",
       "       'no_versions', 'last_publish_date', 'word_count',\n",
       "       'classification_product', 'classification_type', 'page_name', 'title',\n",
       "       'author_list', 'external_clicks', 'external_impressions',\n",
       "       'likes_n_days', 'dislikes_n_days', 'video_play', 'page_impressions',\n",
       "       'clickouts', 'ctr', 'mean_version_lifetime', 'publ_freq',\n",
       "       'ext_impr_norm', 'h1', 'scraped_author', 'date_scraped', 'abstract',\n",
       "       'scraped_word_count', 'meta_title', 'meta_description',\n",
       "       'meta_image_url', 'media_type', 'page_img_size', 'merged_url',\n",
       "       'meta_title_len', 'meta_desc_len', 'h1_len', 'abstract_len',\n",
       "       'merged_url_len', 'title_has_colon', 'clickbait_label',\n",
       "       'clickbait_prob', 'google_trend_prob', 'google_trend_label',\n",
       "       'google_trend_score', 'video_player_types', 'sentiment_abstract',\n",
       "       'confidence_abstract', 'sentiment_meta_title', 'confidence_meta_title',\n",
       "       'external_impressions_scaled', 'external_clicks_scaled', 'ctr_scaled',\n",
       "       'likes_scaled'],\n",
       "      dtype='object')"
      ]
     },
     "execution_count": 49,
     "metadata": {},
     "output_type": "execute_result"
    }
   ],
   "source": [
    "df.columns"
   ]
  },
  {
   "cell_type": "code",
   "execution_count": 53,
   "metadata": {},
   "outputs": [],
   "source": [
    "categorical = ['sentiment_abstract','sentiment_meta_title','video_player_types','clickbait_label','title_has_colon','media_type']\n",
    "df_encoded = pd.get_dummies(df, columns=categorical, prefix= categorical,drop_first=True)"
   ]
  },
  {
   "cell_type": "code",
   "execution_count": 54,
   "metadata": {},
   "outputs": [
    {
     "data": {
      "text/plain": [
       "Index(['page_id', 'n_days', 'date_min', 'n_urls', 'date_max', 'age', 'url',\n",
       "       'no_versions', 'last_publish_date', 'word_count',\n",
       "       'classification_product', 'classification_type', 'page_name', 'title',\n",
       "       'author_list', 'external_clicks', 'external_impressions',\n",
       "       'likes_n_days', 'dislikes_n_days', 'video_play', 'page_impressions',\n",
       "       'clickouts', 'ctr', 'mean_version_lifetime', 'publ_freq',\n",
       "       'ext_impr_norm', 'h1', 'scraped_author', 'date_scraped', 'abstract',\n",
       "       'scraped_word_count', 'meta_title', 'meta_description',\n",
       "       'meta_image_url', 'page_img_size', 'merged_url', 'meta_title_len',\n",
       "       'meta_desc_len', 'h1_len', 'abstract_len', 'merged_url_len',\n",
       "       'clickbait_prob', 'google_trend_prob', 'google_trend_label',\n",
       "       'google_trend_score', 'confidence_abstract', 'confidence_meta_title',\n",
       "       'external_impressions_scaled', 'external_clicks_scaled', 'ctr_scaled',\n",
       "       'likes_scaled', 'sentiment_abstract_neutral',\n",
       "       'sentiment_abstract_positive', 'sentiment_meta_title_neutral',\n",
       "       'sentiment_meta_title_positive',\n",
       "       'video_player_types_2 - Standard and Widget',\n",
       "       'video_player_types_3 - Widget', 'clickbait_label_Not Clickbait',\n",
       "       'title_has_colon_True', 'media_type_other', 'media_type_video'],\n",
       "      dtype='object')"
      ]
     },
     "execution_count": 54,
     "metadata": {},
     "output_type": "execute_result"
    }
   ],
   "source": [
    "df_encoded.columns"
   ]
  },
  {
   "cell_type": "code",
   "execution_count": 55,
   "metadata": {},
   "outputs": [],
   "source": [
    "df_encoded.to_csv('/Users/clara/Desktop/neuefische/d-drivers/data/preprocessing_nlp_v3.csv', encoding='utf-8', index=False)"
   ]
  },
  {
   "cell_type": "code",
   "execution_count": null,
   "metadata": {},
   "outputs": [],
   "source": []
  }
 ],
 "metadata": {
  "kernelspec": {
   "display_name": ".venv",
   "language": "python",
   "name": "python3"
  },
  "language_info": {
   "codemirror_mode": {
    "name": "ipython",
    "version": 3
   },
   "file_extension": ".py",
   "mimetype": "text/x-python",
   "name": "python",
   "nbconvert_exporter": "python",
   "pygments_lexer": "ipython3",
   "version": "3.11.3"
  }
 },
 "nbformat": 4,
 "nbformat_minor": 2
}
