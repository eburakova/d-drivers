{
 "cells": [
  {
   "cell_type": "code",
   "execution_count": 2,
   "metadata": {},
   "outputs": [],
   "source": [
    "from bs4 import BeautifulSoup\n",
    "\n",
    "import requests"
   ]
  },
  {
   "cell_type": "code",
   "execution_count": 3,
   "metadata": {},
   "outputs": [],
   "source": [
    "url = 'https://efahrer.chip.de/news/dacia-spring-schon-ab-rund-92-euro-im-leasing_105259'\n",
    "result = requests.get(url)\n",
    "\n",
    "soup = BeautifulSoup(result.content, 'html.parser')# parse the HTML content"
   ]
  },
  {
   "cell_type": "code",
   "execution_count": 12,
   "metadata": {},
   "outputs": [],
   "source": [
    "# This finds the abstract\n",
    "soup.find(id='content').find('article').find('p').text"
   ]
  },
  {
   "cell_type": "markdown",
   "metadata": {},
   "source": [
    "IDEA: what if we download all the pages and make our own archive of the pages? So we can scrape them later without additional requests / server loads"
   ]
  },
  {
   "cell_type": "code",
   "execution_count": null,
   "metadata": {},
   "outputs": [],
   "source": [
    "import pandas as pd\n",
    "df = pd.read_csv('../data/full_data.csv')\n",
    "df"
   ]
  },
  {
   "cell_type": "code",
   "execution_count": 6,
   "metadata": {},
   "outputs": [],
   "source": [
    "urls = df.drop_duplicates(['page_id']).set_index('page_id').url"
   ]
  },
  {
   "cell_type": "code",
   "execution_count": 14,
   "metadata": {},
   "outputs": [
    {
     "data": {
      "text/plain": [
       "'https://efahrer.chip.de/news/diesel-auto-mit-wasserstoff-tanken-australier-zeigen-umruestung_109787'"
      ]
     },
     "execution_count": 14,
     "metadata": {},
     "output_type": "execute_result"
    }
   ],
   "source": [
    "urls.loc[109787]"
   ]
  },
  {
   "cell_type": "code",
   "execution_count": null,
   "metadata": {},
   "outputs": [],
   "source": [
    "import requests\n",
    "from bs4 import BeautifulSoup\n",
    "\n",
    "for page_id in urls.loc[:].index: # in case of an error start from a certain page as urls.loc[last_page_id:].index\n",
    "    # Send a GET request to the URL\n",
    "    response = requests.get(urls.loc[page_id])\n",
    "    \n",
    "    # Check if the request was successful\n",
    "    if response.status_code == 200:\n",
    "        # Parse the HTML content of the page\n",
    "        soup = BeautifulSoup(response.text, 'html.parser')\n",
    "        \n",
    "        # Save the parsed HTML to a file\n",
    "        with open(f'../data/pages/{page_id}.html', 'w+', encoding='utf-8') as file:\n",
    "            file.write(soup.prettify())\n",
    "    else:\n",
    "        print(f'Failed to retrieve {urls.loc[page_id]}')"
   ]
  },
  {
   "cell_type": "markdown",
   "metadata": {},
   "source": [
    "This took about 50 minutes"
   ]
  },
  {
   "cell_type": "markdown",
   "metadata": {},
   "source": [
    "Trying alternative URLs for the non-retreived articles:"
   ]
  },
  {
   "cell_type": "code",
   "execution_count": 69,
   "metadata": {},
   "outputs": [],
   "source": [
    "dead_urls = [\n",
    "'https://efahrer.chip.de/e-wissen/intelligente-wallbox-diese-vorteile-bringt-die-clevere-ladeloesung_109810',\n",
    "'https://efahrer.chip.de/news/in-6-wochen-zur-eigenen-solaranlage-hier-gibt-es-gerade-rabatt_1010136',\n",
    "'https://efahrer.chip.de/news/wallbox-installationsanbieter-im-schnellcheck-das-macht-smarter-fahren-aus_1011007',\n",
    "'https://efahrer.chip.de/news/rundum-sorglos-paket-fuers-laden-zu-hause-mit-diesem-wallbox-deal-klappt-das_1011358',\n",
    "'https://efahrer.chip.de/news/gruene-welle-in-indien-die-elektroautos-kommen_1011681',\n",
    "'https://efahrer.chip.de/news/fruehjahrs-check-fuers-auto-was-sie-neben-dem-reifenwechsel-erledigen-sollten_1011848',\n",
    "'https://efahrer.chip.de/news/amazon-reduziert-blitzerwarner-mit-dem-sie-sich-nicht-erwischen-lassen-sollten_1012126',\n",
    "'https://efahrer.chip.de/news/letzte-chance-fuer-gewerbetreibende-fuer-diese-e-autos-sie-4500-euro-bafa-praemie_1012294',\n",
    "'https://efahrer.chip.de/news/lange-wartezeiten-bei-e-autos-diese-fuenf-autos-auf-fuenf-klassen-gibts-ruckzuck_1012530',\n",
    "'https://efahrer.chip.de/news/mg-marvel-r-performance-im-test-das-chinesische-e-suv-zeigt-schwaechen_1012692',\n",
    "'https://efahrer.chip.de/news/otto-drueckt-e-roller-wenige-tage-auf-unter-2000-euro-lohnt-sich-der-deal_1012991',\n",
    "'https://efahrer.chip.de/news/unverschaemter-bonus-fuer-elektroautos-jetzt-gibts-geld-fuer-strom_1013220',\n",
    "'https://efahrer.chip.de/news/von-oel-auf-luft-waermepumpen-heizung-altbau-besitzer-zieht-erste-winterbilanz_1013432',\n",
    "'https://efahrer.chip.de/news/neueste-praemie-fuer-e-auto-e-bikes-co-so-kriegen-sie-hunderte-euro-foerderung_1013490',\n",
    "'https://efahrer.chip.de/news/garantiert-hunderte-euro-fuer-e-auto-e-bike-co-das-ist-der-beste-thg-anbieter_1013520',\n",
    "'https://efahrer.chip.de/news/e-roller-praktisch-gratis-so-einfach-geht-der-foerdertrick_1013576',\n",
    "'https://efahrer.chip.de/news/das-ist-der-beste-fixauszahler-geld-fuer-eauto-im-schnell-check_1013695',\n",
    "'https://efahrer.chip.de/news/dieser-thg-anbieter-zaehlt-zu-den-vergleichssiegern-quotlix-im-schnell-check_1013698',\n",
    "'https://efahrer.chip.de/news/forscher-mit-brillanter-idee-e-autos-laden-bald-auf-dem-autozug_1013819',\n",
    "'https://efahrer.chip.de/news/bildhuebscher-e-roller-zum-tiefpreis-sogar-das-topcase-ist-drin_1014484',\n",
    "'https://efahrer.chip.de/news/diese-pv-anlage-kostet-unter-10000-euro-sie-kommt-sogar-mit-speicher_1014556',\n",
    "'https://efahrer.chip.de/news/zum-1-oktober-stadtwerke-senken-strompreise-nur-fuer-waermepumpen-kunden_1014606',\n",
    "'https://efahrer.chip.de/news/neue-marke-hochwertige-teile-e-bike-aus-marken-komponenten-zum-kampfpreis_1014964',\n",
    "'https://efahrer.chip.de/news/letzte-chance-auf-6750-euro-umweltbonus-diese-e-autos-sind-2023-noch-lieferbar_1015588',\n",
    "'https://efahrer.chip.de/news/haus-bauen-ohne-30-jahre-schulden-mann-aus-bayern-zeigt-wie-es-klappen-kann_1015664',\n",
    "'https://efahrer.chip.de/news/harter-schlag-fuers-wasserstoff-auto-kosten-zu-hoch-fuer-praxis-einsatz_1015669',\n",
    "'https://efahrer.chip.de/news/hier-kostet-sie-der-dacia-spring-weniger-als-ein-abendessen-im-restaurant_1015676',\n",
    "'https://efahrer.chip.de/news/steigern-sie-ihren-antrieb-entdecken-sie-das-passende-spigen-zubehoer-fuer-tesla_1016128',\n",
    "'https://efahrer.chip.de/e-bikes/krasses-e-bike-mit-wuestentarnung-es-koennte-sogar-zwei-erwachsene-tragen_1016267',\n",
    "'https://efahrer.chip.de/news/der-restauranbesuch-ist-teurer-diese-woche-gibts-leasing-angebote-ab-80-euro_1016492',\n",
    "'https://efahrer.chip.de/news/klon-von-foerderstopp-fuer-e-autos-das-koennen-kunden-jetzt-tun_1016854',\n",
    "'https://efahrer.chip.de/news/nach-ueber-21-jahren-deutschland-muss-erstmals-strom-zukaufen_1017051',\n",
    "'https://efahrer.chip.de/news/jetzt-beginnt-die-rabattschlacht-erste-hersteller-senken-e-autopreise-massiv_1017067',\n",
    "'https://efahrer.chip.de/news/getunter-bmw-m3-vs-tesla-model-s-plaid-wer-gewinnt-das-1000-ps-rennen_1017564',\n",
    "'https://efahrer.chip.de/news/hausbesitzer-baut-tuev-zertifiziertes-windrad-auf-es-wird-schnell-zur-gefahr_1018536'\n",
    "]\n",
    "\n",
    "unfetched_page_ids = [int(pid.split('_')[-1]) for pid in dead_urls]"
   ]
  },
  {
   "cell_type": "code",
   "execution_count": 92,
   "metadata": {},
   "outputs": [
    {
     "data": {
      "text/plain": [
       "35"
      ]
     },
     "execution_count": 92,
     "metadata": {},
     "output_type": "execute_result"
    }
   ],
   "source": [
    "len(dead_urls)"
   ]
  },
  {
   "cell_type": "code",
   "execution_count": 77,
   "metadata": {},
   "outputs": [
    {
     "data": {
      "text/plain": [
       "page_id\n",
       "109810     https://efahrer.chip.de/e-wissen/intelligente-...\n",
       "1010136    https://efahrer.chip.de/news/in-6-wochen-zur-e...\n",
       "1010136    https://efahrer.chip.de/news/pv-anbieter-punkt...\n",
       "1011007    https://efahrer.chip.de/news/wallbox-installat...\n",
       "1011007    https://efahrer.chip.de/news/wallbox-kompletts...\n",
       "                                 ...                        \n",
       "1016854    https://efahrer.chip.de/news/klon-von-foerders...\n",
       "1017051    https://efahrer.chip.de/news/nach-ueber-21-jah...\n",
       "1017067    https://efahrer.chip.de/news/jetzt-beginnt-die...\n",
       "1017564    https://efahrer.chip.de/news/getunter-bmw-m3-v...\n",
       "1018536    https://efahrer.chip.de/news/hausbesitzer-baut...\n",
       "Name: url, Length: 71, dtype: object"
      ]
     },
     "execution_count": 77,
     "metadata": {},
     "output_type": "execute_result"
    }
   ],
   "source": [
    "new_urls = df.set_index('page_id').loc[unfetched_page_ids].url.drop_duplicates()\n",
    "new_urls"
   ]
  },
  {
   "cell_type": "code",
   "execution_count": 91,
   "metadata": {},
   "outputs": [
    {
     "name": "stdout",
     "output_type": "stream",
     "text": [
      "No alternative links for the page 109810; not possible to retrieve https://efahrer.chip.de/e-wissen/intelligente-wallbox-diese-vorteile-bringt-die-clevere-ladeloesung_109810\n",
      "Failed to retrieve https://efahrer.chip.de/news/in-6-wochen-zur-eigenen-solaranlage-hier-gibt-es-gerade-rabatt_1010136\n",
      "Failed to retrieve https://efahrer.chip.de/news/pv-anbieter-punktet-mit-kuerzester-lieferzeit-jetzt-gibt-er-auch-noch-rabatt_1010136\n",
      "Failed to retrieve https://efahrer.chip.de/news/wallbox-installationsanbieter-im-schnellcheck-das-macht-smarter-fahren-aus_1011007\n",
      "Failed to retrieve https://efahrer.chip.de/news/wallbox-komplettservice-im-schnellcheck-das-zeichnet-smarter-fahren-aus_1011007\n",
      "Failed to retrieve https://efahrer.chip.de/news/smarter-fahren-im-schnellcheck-so-gut-ist-der-wallbox-installationsanbieter_1011007\n",
      "Failed to retrieve https://efahrer.chip.de/news/rundum-sorglos-paket-fuers-laden-zu-hause-mit-diesem-wallbox-deal-klappt-das_1011358\n",
      "Failed to retrieve https://efahrer.chip.de/news/einfach-und-guenstig-zu-hause-laden-hier-gibts-das-rundum-sorglos-paket_1011358\n",
      "Failed to retrieve https://efahrer.chip.de/news/mit-rundum-sorglos-paket-zur-heimischen-wallbox-smarter-fahren-im-schnellcheck_1011358\n",
      "Failed to retrieve https://efahrer.chip.de/news/wallbox-installateur-smarter-fahren-rundum-sorglos-paket-im-schnell-check_1011358\n",
      "Failed to retrieve https://efahrer.chip.de/news/wallbox-installation-mit-smarter-fahren-das-kann-das-rundum-sorglos-paket_1011358\n",
      "No alternative links for the page 1011681; not possible to retrieve https://efahrer.chip.de/news/gruene-welle-in-indien-die-elektroautos-kommen_1011681\n",
      "No alternative links for the page 1011848; not possible to retrieve https://efahrer.chip.de/news/fruehjahrs-check-fuers-auto-was-sie-neben-dem-reifenwechsel-erledigen-sollten_1011848\n",
      "No alternative links for the page 1012126; not possible to retrieve https://efahrer.chip.de/news/amazon-reduziert-blitzerwarner-mit-dem-sie-sich-nicht-erwischen-lassen-sollten_1012126\n",
      "Failed to retrieve https://efahrer.chip.de/news/letzte-chance-fuer-gewerbetreibende-fuer-diese-e-autos-sie-4500-euro-bafa-praemie_1012294\n",
      "Failed to retrieve https://efahrer.chip.de/news/letzte-chance-fuer-gewerbe-fuer-diese-e-autos-erhalten-sie-4500-euro-bafa-praemie_1012294\n",
      "Failed to retrieve https://efahrer.chip.de/news/elektroauto-in-zwei-monaten-fahren-diese-stromer-sind-schnell-verfuegbar_1012294\n",
      "Failed to retrieve https://efahrer.chip.de/news/elektroauto-mit-kurzer-lieferzeit-diese-modelle-sind-schnell-verfuegbar_1012294\n",
      "Failed to retrieve https://efahrer.chip.de/news/bereits-naechsten-monat-vor-der-haustuer-diese-elektroautos-kommen-schnell-an_1012294\n",
      "Failed to retrieve https://efahrer.chip.de/news/mit-diesen-e-autos-bekommen-sie-noch-die-bafa-foerderung_1012294\n",
      "Failed to retrieve https://efahrer.chip.de/news/e-autos-mit-voller-bafa-praemie_1012294\n",
      "Failed to retrieve https://efahrer.chip.de/news/lieferzeit-rund-2-monate-7-e-autos-mit-chance-auf-die-volle-bafa-praemie_1012294\n",
      "Failed to retrieve https://efahrer.chip.de/news/mit-kurzer-lieferzeit-e-autos-mit-chance-auf-4500-euro-bafa-praemie_1012294\n",
      "Failed to retrieve https://efahrer.chip.de/news/letzte-chance-auf-foerderung-diese-e-autos-stehen-noch-im-dezember-auf-dem-hof_1012294\n",
      "Failed to retrieve https://efahrer.chip.de/news/e-autos-mit-kurzer-lieferzeit-hier-holen-sie-das-maximum-aus-der-bafa-foerderung_1012294\n",
      "No alternative links for the page 1012530; not possible to retrieve https://efahrer.chip.de/news/lange-wartezeiten-bei-e-autos-diese-fuenf-autos-auf-fuenf-klassen-gibts-ruckzuck_1012530\n",
      "No alternative links for the page 1012692; not possible to retrieve https://efahrer.chip.de/news/mg-marvel-r-performance-im-test-das-chinesische-e-suv-zeigt-schwaechen_1012692\n",
      "No alternative links for the page 1012991; not possible to retrieve https://efahrer.chip.de/news/otto-drueckt-e-roller-wenige-tage-auf-unter-2000-euro-lohnt-sich-der-deal_1012991\n",
      "No alternative links for the page 1013220; not possible to retrieve https://efahrer.chip.de/news/unverschaemter-bonus-fuer-elektroautos-jetzt-gibts-geld-fuer-strom_1013220\n",
      "Failed to retrieve https://efahrer.chip.de/news/von-oel-auf-luft-waermepumpen-heizung-altbau-besitzer-zieht-erste-winterbilanz_1013432\n",
      "Failed to retrieve https://efahrer.chip.de/news/er-wechselte-von-oel-auf-luft-waermepumpen-heizung-die-winterbilanz-ueberrascht_1013432\n",
      "Failed to retrieve https://efahrer.chip.de/news/altbaubesitzer-tauscht-oel-gegen-luft-waermepumpen-heizung-das-ist-seine-bilanz_1013432\n",
      "Failed to retrieve https://efahrer.chip.de/news/oel-oder-luft-waermepumpen-heizung-im-altbau-besitzer-macht-den-vergleichstest_1013432\n",
      "Failed to retrieve https://efahrer.chip.de/news/von-oel-zu-luft-altbaubesitzer-zieht-bilanz-nach-umstellung-auf-waermepumpe_1013432\n",
      "Failed to retrieve https://efahrer.chip.de/news/altbaubesitzer-zieht-resuemee-wechsel-von-oel-zu-waermepumpe_1013432\n",
      "No alternative links for the page 1013490; not possible to retrieve https://efahrer.chip.de/news/neueste-praemie-fuer-e-auto-e-bikes-co-so-kriegen-sie-hunderte-euro-foerderung_1013490\n",
      "No alternative links for the page 1013520; not possible to retrieve https://efahrer.chip.de/news/garantiert-hunderte-euro-fuer-e-auto-e-bike-co-das-ist-der-beste-thg-anbieter_1013520\n",
      "No alternative links for the page 1013576; not possible to retrieve https://efahrer.chip.de/news/e-roller-praktisch-gratis-so-einfach-geht-der-foerdertrick_1013576\n",
      "No alternative links for the page 1013695; not possible to retrieve https://efahrer.chip.de/news/das-ist-der-beste-fixauszahler-geld-fuer-eauto-im-schnell-check_1013695\n",
      "No alternative links for the page 1013698; not possible to retrieve https://efahrer.chip.de/news/dieser-thg-anbieter-zaehlt-zu-den-vergleichssiegern-quotlix-im-schnell-check_1013698\n",
      "No alternative links for the page 1013819; not possible to retrieve https://efahrer.chip.de/news/forscher-mit-brillanter-idee-e-autos-laden-bald-auf-dem-autozug_1013819\n",
      "No alternative links for the page 1014484; not possible to retrieve https://efahrer.chip.de/news/bildhuebscher-e-roller-zum-tiefpreis-sogar-das-topcase-ist-drin_1014484\n",
      "No alternative links for the page 1014556; not possible to retrieve https://efahrer.chip.de/news/diese-pv-anlage-kostet-unter-10000-euro-sie-kommt-sogar-mit-speicher_1014556\n",
      "No alternative links for the page 1014606; not possible to retrieve https://efahrer.chip.de/news/zum-1-oktober-stadtwerke-senken-strompreise-nur-fuer-waermepumpen-kunden_1014606\n",
      "No alternative links for the page 1014964; not possible to retrieve https://efahrer.chip.de/news/neue-marke-hochwertige-teile-e-bike-aus-marken-komponenten-zum-kampfpreis_1014964\n",
      "Failed to retrieve https://efahrer.chip.de/news/letzte-chance-auf-6750-euro-umweltbonus-diese-e-autos-sind-2023-noch-lieferbar_1015588\n",
      "Failed to retrieve https://efahrer.chip.de/news/endspurt-um-die-bafa-praemie-wer-zu-lange-wartet-verpasst-fette-foerderung_1015588\n",
      "Failed to retrieve https://efahrer.chip.de/news/bafa-praemie-auf-der-zielgeraden-jetzt-noch-tausende-euro-foerderung-sichern_1015588\n",
      "Failed to retrieve https://efahrer.chip.de/news/e-auto-kaufen-und-hohe-foerderung-kassieren-diese-modelle-kommen-noch-puenktlich_1015588\n",
      "Failed to retrieve https://efahrer.chip.de/news/neues-e-auto-mit-voller-bafa-foerderung-kaufen-6-modelle-sind-rasch-bei-ihnen_1015588\n",
      "Failed to retrieve https://efahrer.chip.de/news/e-auto-kaufen-und-hohe-umweltpraemie-einsacken-sechs-modelle-machen-es-moeglich_1015588\n",
      "Failed to retrieve https://efahrer.chip.de/news/jetzt-noch-schnell-4500-euro-beim-e-autokauf-sichern-mit-sechs-modellen-gehts_1015588\n",
      "Failed to retrieve https://efahrer.chip.de/news/schnell-sein-sonst-ist-schluss-fuer-6-e-autos-gibts-noch-4500-euro-vom-staat_1015588\n",
      "Failed to retrieve https://efahrer.chip.de/news/guenstiges-timing-warum-im-november-die-neuwagenpreise-fallen_1015588\n",
      "Failed to retrieve https://efahrer.chip.de/news/wenn-nicht-jetzt-dann-teuer-so-sichern-sie-sich-saisonale-neuwagen-schnaeppchen_1015588\n",
      "Failed to retrieve https://efahrer.chip.de/news/guenstiges-timing-warum-im-november-die-neuwagenpreise-so-stark-fallen_1015588\n",
      "Failed to retrieve https://efahrer.chip.de/news/black-friday-deals-auf-neuwagen-deswegen-fallen-die-preise-um-bis-zu-30-prozent_1015588\n",
      "Failed to retrieve https://efahrer.chip.de/news/black-wow-weeks-von-carwow-wie-sie-am-besten-vom-preissturz-profitieren-koennen_1015588\n",
      "Failed to retrieve https://efahrer.chip.de/news/black-wow-week-das-sind-interessante-e-auto-schnaeppchen-fuer-kauf-und-leasing_1015588\n",
      "Failed to retrieve https://efahrer.chip.de/news/jetzt-schnell-sein-nur-noch-heute-erhalten-sie-black-week-rabatte-bei-carwow_1015588\n",
      "No alternative links for the page 1015664; not possible to retrieve https://efahrer.chip.de/news/haus-bauen-ohne-30-jahre-schulden-mann-aus-bayern-zeigt-wie-es-klappen-kann_1015664\n",
      "No alternative links for the page 1015669; not possible to retrieve https://efahrer.chip.de/news/harter-schlag-fuers-wasserstoff-auto-kosten-zu-hoch-fuer-praxis-einsatz_1015669\n",
      "No alternative links for the page 1015676; not possible to retrieve https://efahrer.chip.de/news/hier-kostet-sie-der-dacia-spring-weniger-als-ein-abendessen-im-restaurant_1015676\n",
      "No alternative links for the page 1016128; not possible to retrieve https://efahrer.chip.de/news/steigern-sie-ihren-antrieb-entdecken-sie-das-passende-spigen-zubehoer-fuer-tesla_1016128\n",
      "No alternative links for the page 1016267; not possible to retrieve https://efahrer.chip.de/e-bikes/krasses-e-bike-mit-wuestentarnung-es-koennte-sogar-zwei-erwachsene-tragen_1016267\n",
      "No alternative links for the page 1016492; not possible to retrieve https://efahrer.chip.de/news/der-restauranbesuch-ist-teurer-diese-woche-gibts-leasing-angebote-ab-80-euro_1016492\n",
      "No alternative links for the page 1016854; not possible to retrieve https://efahrer.chip.de/news/klon-von-foerderstopp-fuer-e-autos-das-koennen-kunden-jetzt-tun_1016854\n",
      "No alternative links for the page 1017051; not possible to retrieve https://efahrer.chip.de/news/nach-ueber-21-jahren-deutschland-muss-erstmals-strom-zukaufen_1017051\n",
      "No alternative links for the page 1017067; not possible to retrieve https://efahrer.chip.de/news/jetzt-beginnt-die-rabattschlacht-erste-hersteller-senken-e-autopreise-massiv_1017067\n",
      "No alternative links for the page 1017564; not possible to retrieve https://efahrer.chip.de/news/getunter-bmw-m3-vs-tesla-model-s-plaid-wer-gewinnt-das-1000-ps-rennen_1017564\n",
      "No alternative links for the page 1018536; not possible to retrieve https://efahrer.chip.de/news/hausbesitzer-baut-tuev-zertifiziertes-windrad-auf-es-wird-schnell-zur-gefahr_1018536\n",
      "\n",
      "===================\n",
      "Total of 0 more articles scraped\n"
     ]
    }
   ],
   "source": [
    "n_success = 0\n",
    "for page_id in new_urls.loc[:].index.unique(): \n",
    "    try: \n",
    "        n_urls = new_urls.loc[page_id].shape[0]\n",
    "        for url in new_urls.loc[page_id]:\n",
    "        # Send a GET request to the URL\n",
    "            response = requests.get(urls.loc[page_id])\n",
    "            \n",
    "            # Check if the request was successful\n",
    "            if response.status_code == 200:\n",
    "                # Parse the HTML content of the page\n",
    "                soup = BeautifulSoup(response.text, 'html.parser')\n",
    "                \n",
    "                # Save the parsed HTML to a file\n",
    "                with open(f'../data/pages/{page_id}.html', 'w+', encoding='utf-8') as file:\n",
    "                    file.write(soup.prettify())\n",
    "                    n_success += 1\n",
    "                continue\n",
    "            else:\n",
    "                print(f'Failed to retrieve {url}')\n",
    "    except AttributeError:\n",
    "        print(f'No alternative links for the page {page_id}; not possible to retrieve {new_urls.loc[page_id]}')\n",
    "        continue\n",
    "print(f'\\n===================\\nTotal of {n_success} more articles scraped')"
   ]
  },
  {
   "cell_type": "markdown",
   "metadata": {},
   "source": [
    "Creating an `index.html` for the server - *there is still something wrong with this code, the page is not displayed correctly!*"
   ]
  },
  {
   "cell_type": "code",
   "execution_count": 24,
   "metadata": {},
   "outputs": [],
   "source": [
    "from glob import glob\n",
    "paths = glob('../data/pages/*.html')\n",
    "\n",
    "rel_paths = [p.split('/')[-1] for p in paths]"
   ]
  },
  {
   "cell_type": "code",
   "execution_count": 58,
   "metadata": {},
   "outputs": [],
   "source": [
    "with open('../data/pages/index.html', 'w+', encoding='utf-8') as file:\n",
    "    for p in rel_paths:\n",
    "        file.write(p+'\\n')"
   ]
  },
  {
   "cell_type": "code",
   "execution_count": null,
   "metadata": {},
   "outputs": [],
   "source": [
    "!zip -r -q ../data/pages.zip ../data/pages/"
   ]
  }
 ],
 "metadata": {
  "kernelspec": {
   "display_name": ".venv",
   "language": "python",
   "name": "python3"
  },
  "language_info": {
   "codemirror_mode": {
    "name": "ipython",
    "version": 3
   },
   "file_extension": ".py",
   "mimetype": "text/x-python",
   "name": "python",
   "nbconvert_exporter": "python",
   "pygments_lexer": "ipython3",
   "version": "3.11.3"
  }
 },
 "nbformat": 4,
 "nbformat_minor": 2
}
