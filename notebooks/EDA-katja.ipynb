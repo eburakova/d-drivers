{
 "cells": [
  {
   "cell_type": "code",
   "execution_count": null,
   "metadata": {},
   "outputs": [],
   "source": [
    "import pandas as pd\n",
    "\n",
    "import missingno as mgn\n",
    "\n",
    "import plotly.express as px\n",
    "import plotly.graph_objects as go"
   ]
  },
  {
   "cell_type": "code",
   "execution_count": null,
   "metadata": {},
   "outputs": [],
   "source": [
    "df = pd.read_csv('../data/data_nlp_A.csv', parse_dates=['last_publish_date', 'date_min'])"
   ]
  },
  {
   "cell_type": "code",
   "execution_count": null,
   "metadata": {},
   "outputs": [],
   "source": [
    "df.columns"
   ]
  },
  {
   "cell_type": "code",
   "execution_count": null,
   "metadata": {},
   "outputs": [],
   "source": [
    "df.drop(['url', 'page_name'], axis=1, inplace=True)"
   ]
  },
  {
   "cell_type": "code",
   "execution_count": null,
   "metadata": {},
   "outputs": [],
   "source": [
    "import pygwalker as pyg\n",
    "\n",
    "walker = pyg.walk(df, \"eda_stlit.json\", )"
   ]
  },
  {
   "cell_type": "markdown",
   "metadata": {},
   "source": [
    "# Trying new features"
   ]
  },
  {
   "cell_type": "code",
   "execution_count": null,
   "metadata": {},
   "outputs": [],
   "source": [
    "df.columns"
   ]
  },
  {
   "cell_type": "code",
   "execution_count": null,
   "metadata": {},
   "outputs": [],
   "source": [
    "#df = pd.read_csv('../data/data_features.csv', parse_dates=['last_publish_date', 'date_min', 'date_max'])\n",
    "df['version_lifetime'] = (df['date_max'] - df['date_min']).dt.days / (df.no_versions + 1) # mean_version_lifetime\n",
    "df['publ_freq'] = (df.no_versions + 1) / ((df['date_max'] - df['date_min']).dt.days + 0.1)\n",
    "df['ext_impr_norm'] = df.external_impressions / df.n_days"
   ]
  },
  {
   "cell_type": "code",
   "execution_count": null,
   "metadata": {},
   "outputs": [],
   "source": [
    "walker_nf = pyg.walk(df, \"./pygwalk_eda3_spec_nf.json\")"
   ]
  },
  {
   "cell_type": "code",
   "execution_count": null,
   "metadata": {},
   "outputs": [],
   "source": [
    "walker_nf.spec"
   ]
  },
  {
   "cell_type": "markdown",
   "metadata": {},
   "source": [
    "# Correlations"
   ]
  },
  {
   "cell_type": "code",
   "execution_count": null,
   "metadata": {},
   "outputs": [],
   "source": [
    "import phik\n",
    "from phik.report import plot_correlation_matrix"
   ]
  },
  {
   "cell_type": "code",
   "execution_count": null,
   "metadata": {},
   "outputs": [],
   "source": [
    "#numerical = df.select_dtypes(exclude=['object', 'datetime64[ns]']).columns.drop('page_id')\n",
    "numerical = ['n_days', 'no_versions', 'likes_n_days',  'total_likes_n_days', 'video_play', \n",
    "             'h1_len', 'abstract_len', 'external_clicks', 'external_impressions', 'ctr']\n",
    "categorical = ['classification_product', 'classification_type', 'media_type', 'sentiment_abstract', 'sentiment_meta_title']"
   ]
  },
  {
   "cell_type": "code",
   "execution_count": null,
   "metadata": {},
   "outputs": [],
   "source": [
    "phik_matrix = df[list(categorical)+list(numerical)].phik_matrix(interval_cols=list(numerical))"
   ]
  },
  {
   "cell_type": "code",
   "execution_count": null,
   "metadata": {},
   "outputs": [],
   "source": [
    "plot_correlation_matrix(phik_matrix.values, x_labels=phik_matrix.columns, y_labels=phik_matrix.index, \n",
    "                        vmin=0, vmax=1, color_map='BuPu', fontsize_factor=0.75,\n",
    "                        title=r'$\\phi_K$ correlation of the features',\n",
    "                        figsize=(10,7.5))"
   ]
  }
 ],
 "metadata": {
  "kernelspec": {
   "display_name": ".venv",
   "language": "python",
   "name": "python3"
  },
  "language_info": {
   "codemirror_mode": {
    "name": "ipython",
    "version": 3
   },
   "file_extension": ".py",
   "mimetype": "text/x-python",
   "name": "python",
   "nbconvert_exporter": "python",
   "pygments_lexer": "ipython3",
   "version": "3.11.3"
  }
 },
 "nbformat": 4,
 "nbformat_minor": 2
}
